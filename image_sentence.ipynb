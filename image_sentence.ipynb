{
 "cells": [
  {
   "metadata": {
    "ExecuteTime": {
     "end_time": "2024-12-19T17:52:42.720140Z",
     "start_time": "2024-12-19T17:52:42.716607Z"
    }
   },
   "cell_type": "code",
   "source": [
    "%env KERAS_BACKEND=torch\n",
    "import keras "
   ],
   "id": "2a2af5b54a8b3e3e",
   "outputs": [
    {
     "name": "stdout",
     "output_type": "stream",
     "text": [
      "env: KERAS_BACKEND=torch\n"
     ]
    }
   ],
   "execution_count": 29
  },
  {
   "cell_type": "code",
   "id": "initial_id",
   "metadata": {
    "collapsed": true,
    "ExecuteTime": {
     "end_time": "2024-12-19T17:52:43.166226Z",
     "start_time": "2024-12-19T17:52:43.163350Z"
    }
   },
   "source": [
    "import numpy as np\n",
    "import pandas as pd\n",
    "import os\n",
    "from tqdm import tqdm, trange\n",
    "from PIL import Image\n",
    "from keras.models import Sequential\n",
    "from keras.layers import Embedding, LSTM, Dense, Dropout\n",
    "from keras.preprocessing.sequence import pad_sequences"
   ],
   "outputs": [],
   "execution_count": 30
  },
  {
   "metadata": {
    "ExecuteTime": {
     "end_time": "2024-12-19T17:52:43.572174Z",
     "start_time": "2024-12-19T17:52:43.568459Z"
    }
   },
   "cell_type": "code",
   "source": [
    "import nltk\n",
    "from nltk.corpus import stopwords\n",
    "from nltk.tokenize import word_tokenize\n",
    "import re\n",
    "from nltk.stem import SnowballStemmer"
   ],
   "id": "8a75838c8271a224",
   "outputs": [],
   "execution_count": 31
  },
  {
   "metadata": {
    "ExecuteTime": {
     "end_time": "2024-12-19T17:52:43.877272Z",
     "start_time": "2024-12-19T17:52:43.873524Z"
    }
   },
   "cell_type": "code",
   "source": [
    "nltk.download('stopwords')\n",
    "snow_stemmer = SnowballStemmer(language='english')"
   ],
   "id": "73320a74745aa9cb",
   "outputs": [
    {
     "name": "stderr",
     "output_type": "stream",
     "text": [
      "[nltk_data] Downloading package stopwords to /home/radu/nltk_data...\n",
      "[nltk_data]   Package stopwords is already up-to-date!\n"
     ]
    }
   ],
   "execution_count": 32
  },
  {
   "metadata": {},
   "cell_type": "markdown",
   "source": "### Loading images...",
   "id": "64103db2a2d7225c"
  },
  {
   "metadata": {
    "ExecuteTime": {
     "end_time": "2024-12-19T17:52:46.548187Z",
     "start_time": "2024-12-19T17:52:44.236140Z"
    }
   },
   "cell_type": "code",
   "source": [
    "folders = [\"train_images\"]\n",
    "image_data = []\n",
    "size_not = []\n",
    "grayscale = []\n",
    "for folder in folders:\n",
    "    files = [f for f in os.listdir(folder) if f.endswith('.jpg')]\n",
    "    for file_name in tqdm(files, desc = f\"Loading images from folder {folder}\"):\n",
    "        file_path = os.path.join(folder, file_name)\n",
    "\n",
    "        img = Image.open(file_path) #open the image\n",
    "        \n",
    "        if img.mode != \"RGB\":\n",
    "            img = img.convert(\"RGB\")\n",
    "            \n",
    "        img_arr = np.array(img) / 255.0\n",
    "        image_data.append(img_arr)\n",
    "            \n"
   ],
   "id": "9f47e3f937d49d46",
   "outputs": [
    {
     "name": "stderr",
     "output_type": "stream",
     "text": [
      "Loading images from folder train_images: 100%|██████████| 9463/9463 [00:02<00:00, 4148.00it/s]\n"
     ]
    }
   ],
   "execution_count": 33
  },
  {
   "metadata": {
    "ExecuteTime": {
     "end_time": "2024-12-19T17:52:47.025061Z",
     "start_time": "2024-12-19T17:52:46.549694Z"
    }
   },
   "cell_type": "code",
   "source": [
    "image_data = np.array(image_data)\n",
    "print(\"Loaded images shape:\", image_data.shape)"
   ],
   "id": "b0ee7e436c104e3f",
   "outputs": [
    {
     "name": "stdout",
     "output_type": "stream",
     "text": [
      "Loaded images shape: (9463, 100, 100, 3)\n"
     ]
    }
   ],
   "execution_count": 34
  },
  {
   "metadata": {
    "ExecuteTime": {
     "end_time": "2024-12-19T17:52:47.080210Z",
     "start_time": "2024-12-19T17:52:47.026615Z"
    }
   },
   "cell_type": "code",
   "source": [
    "from keras.models import Sequential\n",
    "from keras.layers import Dense, Conv2D, Flatten, MaxPooling2D, Dropout\n",
    "\n",
    "def build_model():\n",
    "    ### 3.1. create the model\n",
    "    model = Sequential()\n",
    "    \n",
    "    ### 3.2. add the layers\n",
    "    \n",
    "    # L1: add a CONV layer with 32 filters, kernel size 3, padding same, activation relu \n",
    "    model.add(Conv2D(32, kernel_size=3, padding='same', activation='relu', input_shape=(100, 100, 3)))\n",
    "    \n",
    "    # L2: add a CONV layer with 32 filters, kernel size 3, activation relu\n",
    "    model.add(Conv2D(32, kernel_size=3, activation='relu'))\n",
    "    \n",
    "    # L3: add a Max Pooling layer, pool size 2x2\n",
    "    model.add(MaxPooling2D(pool_size=2))\n",
    "    \n",
    "    # L4: add a Dropout layer, drop 1/4 of the neurons\n",
    "    model.add(Dropout(0.25))\n",
    "    \n",
    "    # L5: add a CONV layer with 64 filters, kernel size 3, padding same, activation relu\n",
    "    model.add(Conv2D(64, kernel_size=3, padding='same', activation='relu'))\n",
    "    \n",
    "    # L6: add a CONV layer with 64 filters, kernel size 3, activation relu\n",
    "    model.add(Conv2D(64, kernel_size=3, activation='relu'))\n",
    "    \n",
    "    # L7: add a Max Pooling layer with pool size 2x2\n",
    "    model.add(MaxPooling2D(pool_size=2))\n",
    "    \n",
    "    # L8: add a Dropout layer; drop 1/4 of the neurons\n",
    "    model.add(Dropout(0.25))\n",
    "    \n",
    "    # L9: add a Flatten layer\n",
    "    model.add(Flatten())\n",
    "    \n",
    "    # L10: add a Dense layer with 512 neurons and activation relu\n",
    "    model.add(Dense(1024, activation='relu'))\n",
    "    \n",
    "    \n",
    "\n",
    "    return model\n",
    "\n",
    "model = build_model()\n",
    "model.summary()\n"
   ],
   "id": "9982117e27850a18",
   "outputs": [
    {
     "name": "stderr",
     "output_type": "stream",
     "text": [
      "/home/radu/miniforge3/envs/ML/lib/python3.11/site-packages/keras/src/layers/convolutional/base_conv.py:107: UserWarning: Do not pass an `input_shape`/`input_dim` argument to a layer. When using Sequential models, prefer using an `Input(shape)` object as the first layer in the model instead.\n",
      "  super().__init__(activity_regularizer=activity_regularizer, **kwargs)\n"
     ]
    },
    {
     "data": {
      "text/plain": [
       "\u001B[1mModel: \"sequential_3\"\u001B[0m\n"
      ],
      "text/html": [
       "<pre style=\"white-space:pre;overflow-x:auto;line-height:normal;font-family:Menlo,'DejaVu Sans Mono',consolas,'Courier New',monospace\"><span style=\"font-weight: bold\">Model: \"sequential_3\"</span>\n",
       "</pre>\n"
      ]
     },
     "metadata": {},
     "output_type": "display_data"
    },
    {
     "data": {
      "text/plain": [
       "┏━━━━━━━━━━━━━━━━━━━━━━━━━━━━━━━━━┳━━━━━━━━━━━━━━━━━━━━━━━━┳━━━━━━━━━━━━━━━┓\n",
       "┃\u001B[1m \u001B[0m\u001B[1mLayer (type)                   \u001B[0m\u001B[1m \u001B[0m┃\u001B[1m \u001B[0m\u001B[1mOutput Shape          \u001B[0m\u001B[1m \u001B[0m┃\u001B[1m \u001B[0m\u001B[1m      Param #\u001B[0m\u001B[1m \u001B[0m┃\n",
       "┡━━━━━━━━━━━━━━━━━━━━━━━━━━━━━━━━━╇━━━━━━━━━━━━━━━━━━━━━━━━╇━━━━━━━━━━━━━━━┩\n",
       "│ conv2d_4 (\u001B[38;5;33mConv2D\u001B[0m)               │ (\u001B[38;5;45mNone\u001B[0m, \u001B[38;5;34m100\u001B[0m, \u001B[38;5;34m100\u001B[0m, \u001B[38;5;34m32\u001B[0m)   │           \u001B[38;5;34m896\u001B[0m │\n",
       "├─────────────────────────────────┼────────────────────────┼───────────────┤\n",
       "│ conv2d_5 (\u001B[38;5;33mConv2D\u001B[0m)               │ (\u001B[38;5;45mNone\u001B[0m, \u001B[38;5;34m98\u001B[0m, \u001B[38;5;34m98\u001B[0m, \u001B[38;5;34m32\u001B[0m)     │         \u001B[38;5;34m9,248\u001B[0m │\n",
       "├─────────────────────────────────┼────────────────────────┼───────────────┤\n",
       "│ max_pooling2d_2 (\u001B[38;5;33mMaxPooling2D\u001B[0m)  │ (\u001B[38;5;45mNone\u001B[0m, \u001B[38;5;34m49\u001B[0m, \u001B[38;5;34m49\u001B[0m, \u001B[38;5;34m32\u001B[0m)     │             \u001B[38;5;34m0\u001B[0m │\n",
       "├─────────────────────────────────┼────────────────────────┼───────────────┤\n",
       "│ dropout_4 (\u001B[38;5;33mDropout\u001B[0m)             │ (\u001B[38;5;45mNone\u001B[0m, \u001B[38;5;34m49\u001B[0m, \u001B[38;5;34m49\u001B[0m, \u001B[38;5;34m32\u001B[0m)     │             \u001B[38;5;34m0\u001B[0m │\n",
       "├─────────────────────────────────┼────────────────────────┼───────────────┤\n",
       "│ conv2d_6 (\u001B[38;5;33mConv2D\u001B[0m)               │ (\u001B[38;5;45mNone\u001B[0m, \u001B[38;5;34m49\u001B[0m, \u001B[38;5;34m49\u001B[0m, \u001B[38;5;34m64\u001B[0m)     │        \u001B[38;5;34m18,496\u001B[0m │\n",
       "├─────────────────────────────────┼────────────────────────┼───────────────┤\n",
       "│ conv2d_7 (\u001B[38;5;33mConv2D\u001B[0m)               │ (\u001B[38;5;45mNone\u001B[0m, \u001B[38;5;34m47\u001B[0m, \u001B[38;5;34m47\u001B[0m, \u001B[38;5;34m64\u001B[0m)     │        \u001B[38;5;34m36,928\u001B[0m │\n",
       "├─────────────────────────────────┼────────────────────────┼───────────────┤\n",
       "│ max_pooling2d_3 (\u001B[38;5;33mMaxPooling2D\u001B[0m)  │ (\u001B[38;5;45mNone\u001B[0m, \u001B[38;5;34m23\u001B[0m, \u001B[38;5;34m23\u001B[0m, \u001B[38;5;34m64\u001B[0m)     │             \u001B[38;5;34m0\u001B[0m │\n",
       "├─────────────────────────────────┼────────────────────────┼───────────────┤\n",
       "│ dropout_5 (\u001B[38;5;33mDropout\u001B[0m)             │ (\u001B[38;5;45mNone\u001B[0m, \u001B[38;5;34m23\u001B[0m, \u001B[38;5;34m23\u001B[0m, \u001B[38;5;34m64\u001B[0m)     │             \u001B[38;5;34m0\u001B[0m │\n",
       "├─────────────────────────────────┼────────────────────────┼───────────────┤\n",
       "│ flatten_1 (\u001B[38;5;33mFlatten\u001B[0m)             │ (\u001B[38;5;45mNone\u001B[0m, \u001B[38;5;34m33856\u001B[0m)          │             \u001B[38;5;34m0\u001B[0m │\n",
       "├─────────────────────────────────┼────────────────────────┼───────────────┤\n",
       "│ dense_2 (\u001B[38;5;33mDense\u001B[0m)                 │ (\u001B[38;5;45mNone\u001B[0m, \u001B[38;5;34m1024\u001B[0m)           │    \u001B[38;5;34m34,669,568\u001B[0m │\n",
       "└─────────────────────────────────┴────────────────────────┴───────────────┘\n"
      ],
      "text/html": [
       "<pre style=\"white-space:pre;overflow-x:auto;line-height:normal;font-family:Menlo,'DejaVu Sans Mono',consolas,'Courier New',monospace\">┏━━━━━━━━━━━━━━━━━━━━━━━━━━━━━━━━━┳━━━━━━━━━━━━━━━━━━━━━━━━┳━━━━━━━━━━━━━━━┓\n",
       "┃<span style=\"font-weight: bold\"> Layer (type)                    </span>┃<span style=\"font-weight: bold\"> Output Shape           </span>┃<span style=\"font-weight: bold\">       Param # </span>┃\n",
       "┡━━━━━━━━━━━━━━━━━━━━━━━━━━━━━━━━━╇━━━━━━━━━━━━━━━━━━━━━━━━╇━━━━━━━━━━━━━━━┩\n",
       "│ conv2d_4 (<span style=\"color: #0087ff; text-decoration-color: #0087ff\">Conv2D</span>)               │ (<span style=\"color: #00d7ff; text-decoration-color: #00d7ff\">None</span>, <span style=\"color: #00af00; text-decoration-color: #00af00\">100</span>, <span style=\"color: #00af00; text-decoration-color: #00af00\">100</span>, <span style=\"color: #00af00; text-decoration-color: #00af00\">32</span>)   │           <span style=\"color: #00af00; text-decoration-color: #00af00\">896</span> │\n",
       "├─────────────────────────────────┼────────────────────────┼───────────────┤\n",
       "│ conv2d_5 (<span style=\"color: #0087ff; text-decoration-color: #0087ff\">Conv2D</span>)               │ (<span style=\"color: #00d7ff; text-decoration-color: #00d7ff\">None</span>, <span style=\"color: #00af00; text-decoration-color: #00af00\">98</span>, <span style=\"color: #00af00; text-decoration-color: #00af00\">98</span>, <span style=\"color: #00af00; text-decoration-color: #00af00\">32</span>)     │         <span style=\"color: #00af00; text-decoration-color: #00af00\">9,248</span> │\n",
       "├─────────────────────────────────┼────────────────────────┼───────────────┤\n",
       "│ max_pooling2d_2 (<span style=\"color: #0087ff; text-decoration-color: #0087ff\">MaxPooling2D</span>)  │ (<span style=\"color: #00d7ff; text-decoration-color: #00d7ff\">None</span>, <span style=\"color: #00af00; text-decoration-color: #00af00\">49</span>, <span style=\"color: #00af00; text-decoration-color: #00af00\">49</span>, <span style=\"color: #00af00; text-decoration-color: #00af00\">32</span>)     │             <span style=\"color: #00af00; text-decoration-color: #00af00\">0</span> │\n",
       "├─────────────────────────────────┼────────────────────────┼───────────────┤\n",
       "│ dropout_4 (<span style=\"color: #0087ff; text-decoration-color: #0087ff\">Dropout</span>)             │ (<span style=\"color: #00d7ff; text-decoration-color: #00d7ff\">None</span>, <span style=\"color: #00af00; text-decoration-color: #00af00\">49</span>, <span style=\"color: #00af00; text-decoration-color: #00af00\">49</span>, <span style=\"color: #00af00; text-decoration-color: #00af00\">32</span>)     │             <span style=\"color: #00af00; text-decoration-color: #00af00\">0</span> │\n",
       "├─────────────────────────────────┼────────────────────────┼───────────────┤\n",
       "│ conv2d_6 (<span style=\"color: #0087ff; text-decoration-color: #0087ff\">Conv2D</span>)               │ (<span style=\"color: #00d7ff; text-decoration-color: #00d7ff\">None</span>, <span style=\"color: #00af00; text-decoration-color: #00af00\">49</span>, <span style=\"color: #00af00; text-decoration-color: #00af00\">49</span>, <span style=\"color: #00af00; text-decoration-color: #00af00\">64</span>)     │        <span style=\"color: #00af00; text-decoration-color: #00af00\">18,496</span> │\n",
       "├─────────────────────────────────┼────────────────────────┼───────────────┤\n",
       "│ conv2d_7 (<span style=\"color: #0087ff; text-decoration-color: #0087ff\">Conv2D</span>)               │ (<span style=\"color: #00d7ff; text-decoration-color: #00d7ff\">None</span>, <span style=\"color: #00af00; text-decoration-color: #00af00\">47</span>, <span style=\"color: #00af00; text-decoration-color: #00af00\">47</span>, <span style=\"color: #00af00; text-decoration-color: #00af00\">64</span>)     │        <span style=\"color: #00af00; text-decoration-color: #00af00\">36,928</span> │\n",
       "├─────────────────────────────────┼────────────────────────┼───────────────┤\n",
       "│ max_pooling2d_3 (<span style=\"color: #0087ff; text-decoration-color: #0087ff\">MaxPooling2D</span>)  │ (<span style=\"color: #00d7ff; text-decoration-color: #00d7ff\">None</span>, <span style=\"color: #00af00; text-decoration-color: #00af00\">23</span>, <span style=\"color: #00af00; text-decoration-color: #00af00\">23</span>, <span style=\"color: #00af00; text-decoration-color: #00af00\">64</span>)     │             <span style=\"color: #00af00; text-decoration-color: #00af00\">0</span> │\n",
       "├─────────────────────────────────┼────────────────────────┼───────────────┤\n",
       "│ dropout_5 (<span style=\"color: #0087ff; text-decoration-color: #0087ff\">Dropout</span>)             │ (<span style=\"color: #00d7ff; text-decoration-color: #00d7ff\">None</span>, <span style=\"color: #00af00; text-decoration-color: #00af00\">23</span>, <span style=\"color: #00af00; text-decoration-color: #00af00\">23</span>, <span style=\"color: #00af00; text-decoration-color: #00af00\">64</span>)     │             <span style=\"color: #00af00; text-decoration-color: #00af00\">0</span> │\n",
       "├─────────────────────────────────┼────────────────────────┼───────────────┤\n",
       "│ flatten_1 (<span style=\"color: #0087ff; text-decoration-color: #0087ff\">Flatten</span>)             │ (<span style=\"color: #00d7ff; text-decoration-color: #00d7ff\">None</span>, <span style=\"color: #00af00; text-decoration-color: #00af00\">33856</span>)          │             <span style=\"color: #00af00; text-decoration-color: #00af00\">0</span> │\n",
       "├─────────────────────────────────┼────────────────────────┼───────────────┤\n",
       "│ dense_2 (<span style=\"color: #0087ff; text-decoration-color: #0087ff\">Dense</span>)                 │ (<span style=\"color: #00d7ff; text-decoration-color: #00d7ff\">None</span>, <span style=\"color: #00af00; text-decoration-color: #00af00\">1024</span>)           │    <span style=\"color: #00af00; text-decoration-color: #00af00\">34,669,568</span> │\n",
       "└─────────────────────────────────┴────────────────────────┴───────────────┘\n",
       "</pre>\n"
      ]
     },
     "metadata": {},
     "output_type": "display_data"
    },
    {
     "data": {
      "text/plain": [
       "\u001B[1m Total params: \u001B[0m\u001B[38;5;34m34,735,136\u001B[0m (132.50 MB)\n"
      ],
      "text/html": [
       "<pre style=\"white-space:pre;overflow-x:auto;line-height:normal;font-family:Menlo,'DejaVu Sans Mono',consolas,'Courier New',monospace\"><span style=\"font-weight: bold\"> Total params: </span><span style=\"color: #00af00; text-decoration-color: #00af00\">34,735,136</span> (132.50 MB)\n",
       "</pre>\n"
      ]
     },
     "metadata": {},
     "output_type": "display_data"
    },
    {
     "data": {
      "text/plain": [
       "\u001B[1m Trainable params: \u001B[0m\u001B[38;5;34m34,735,136\u001B[0m (132.50 MB)\n"
      ],
      "text/html": [
       "<pre style=\"white-space:pre;overflow-x:auto;line-height:normal;font-family:Menlo,'DejaVu Sans Mono',consolas,'Courier New',monospace\"><span style=\"font-weight: bold\"> Trainable params: </span><span style=\"color: #00af00; text-decoration-color: #00af00\">34,735,136</span> (132.50 MB)\n",
       "</pre>\n"
      ]
     },
     "metadata": {},
     "output_type": "display_data"
    },
    {
     "data": {
      "text/plain": [
       "\u001B[1m Non-trainable params: \u001B[0m\u001B[38;5;34m0\u001B[0m (0.00 B)\n"
      ],
      "text/html": [
       "<pre style=\"white-space:pre;overflow-x:auto;line-height:normal;font-family:Menlo,'DejaVu Sans Mono',consolas,'Courier New',monospace\"><span style=\"font-weight: bold\"> Non-trainable params: </span><span style=\"color: #00af00; text-decoration-color: #00af00\">0</span> (0.00 B)\n",
       "</pre>\n"
      ]
     },
     "metadata": {},
     "output_type": "display_data"
    }
   ],
   "execution_count": 35
  },
  {
   "metadata": {
    "ExecuteTime": {
     "end_time": "2024-12-19T17:52:50.523694Z",
     "start_time": "2024-12-19T17:52:47.081799Z"
    }
   },
   "cell_type": "code",
   "source": [
    "feature_extractor = Sequential(model.layers)  # Exclude last layer\n",
    "features = feature_extractor.predict(image_data)\n",
    "print(\"Extracted features shape:\", features.shape)\n",
    "np.save(\"extracted_features.npy\", features)\n"
   ],
   "id": "8157625116a3d3ea",
   "outputs": [
    {
     "name": "stdout",
     "output_type": "stream",
     "text": [
      "\u001B[1m296/296\u001B[0m \u001B[32m━━━━━━━━━━━━━━━━━━━━\u001B[0m\u001B[37m\u001B[0m \u001B[1m3s\u001B[0m 10ms/step\n",
      "Extracted features shape: (9463, 1024)\n"
     ]
    }
   ],
   "execution_count": 36
  },
  {
   "metadata": {
    "ExecuteTime": {
     "end_time": "2024-12-19T17:52:50.526945Z",
     "start_time": "2024-12-19T17:52:50.524916Z"
    }
   },
   "cell_type": "code",
   "source": "",
   "id": "735e23bcd8c6181c",
   "outputs": [],
   "execution_count": 36
  },
  {
   "metadata": {
    "ExecuteTime": {
     "end_time": "2024-12-19T17:52:50.548654Z",
     "start_time": "2024-12-19T17:52:50.527915Z"
    }
   },
   "cell_type": "code",
   "source": [
    "train = pd.read_csv('train.csv')\n",
    "val = pd.read_csv('val.csv')\n",
    "test = pd.read_csv('test.csv')\n",
    "\n",
    "train_images_path = './train_images'\n",
    "val_images_path = './val_images'\n",
    "test_images_path = './test_images'"
   ],
   "id": "3ac460a427a15645",
   "outputs": [],
   "execution_count": 37
  },
  {
   "metadata": {
    "ExecuteTime": {
     "end_time": "2024-12-19T17:52:50.553672Z",
     "start_time": "2024-12-19T17:52:50.549704Z"
    }
   },
   "cell_type": "code",
   "source": [
    "print(len(train), len(val), len(test))\n",
    "print(train.head())"
   ],
   "id": "182728d809706776",
   "outputs": [
    {
     "name": "stdout",
     "output_type": "stream",
     "text": [
      "10000 3000 2000\n",
      "                                     id  \\\n",
      "0  417812c5-0ce4-499d-b97d-4d28827239bc   \n",
      "1  5ac91fa3-55f2-4cb3-8c8f-ad84f78e6b36   \n",
      "2  d2705b90-8347-4cab-a7a6-654540d9a489   \n",
      "3  a3b33fe7-3085-4433-9c18-8814803891b4   \n",
      "4  1514b0e4-0665-45bc-ab32-52fce326cc29   \n",
      "\n",
      "                                             caption  image_id  label  \n",
      "0  Wet elephants shake water onto people bathing ...    394330      0  \n",
      "1       Two men holding tennis racquets on the court    130849      0  \n",
      "2  A bird on a tree limb with mountains in the ba...    514790      0  \n",
      "3  A kitchen and dining room are featured along w...    182096      0  \n",
      "4     A fruit stand has various fruits on the table.     68788      1  \n"
     ]
    }
   ],
   "execution_count": 38
  },
  {
   "metadata": {
    "ExecuteTime": {
     "end_time": "2024-12-19T17:52:50.558519Z",
     "start_time": "2024-12-19T17:52:50.555101Z"
    }
   },
   "cell_type": "code",
   "source": "print(train['caption'][0])",
   "id": "7ab564f80d177fb2",
   "outputs": [
    {
     "name": "stdout",
     "output_type": "stream",
     "text": [
      "Wet elephants shake water onto people bathing them.\n"
     ]
    }
   ],
   "execution_count": 39
  },
  {
   "metadata": {
    "ExecuteTime": {
     "end_time": "2024-12-19T17:52:50.563139Z",
     "start_time": "2024-12-19T17:52:50.559814Z"
    }
   },
   "cell_type": "code",
   "source": [
    "stop_words = set(stopwords.words('english'))\n",
    "\n",
    "def preprocess_sentence(sentence):\n",
    "    # Remove punctuation\n",
    "    sentence = re.sub(r'[^\\w\\s]', '', sentence)\n",
    "    # Tokenize\n",
    "    tokens = word_tokenize(sentence)\n",
    "    # Remove stop words\n",
    "    tokens = [snow_stemmer.stem(word.lower()) for word in tokens if word.lower() not in stop_words]\n",
    "    # Join back into a string\n",
    "    return ' '.join(tokens)     "
   ],
   "id": "8c7599937f323ca9",
   "outputs": [],
   "execution_count": 40
  },
  {
   "metadata": {
    "ExecuteTime": {
     "end_time": "2024-12-19T17:52:52.024669Z",
     "start_time": "2024-12-19T17:52:50.565370Z"
    }
   },
   "cell_type": "code",
   "source": [
    "train['processed_caption'] = train['caption'].apply(preprocess_sentence)\n",
    "val['processed_caption'] = val['caption'].apply(preprocess_sentence)"
   ],
   "id": "781a027e1a12d69d",
   "outputs": [],
   "execution_count": 41
  },
  {
   "metadata": {
    "ExecuteTime": {
     "end_time": "2024-12-19T17:52:52.028118Z",
     "start_time": "2024-12-19T17:52:52.025522Z"
    }
   },
   "cell_type": "code",
   "source": [
    "print(train['caption'][0])\n",
    "print(train['processed_caption'][0])"
   ],
   "id": "bb5ddbccc7c98913",
   "outputs": [
    {
     "name": "stdout",
     "output_type": "stream",
     "text": [
      "Wet elephants shake water onto people bathing them.\n",
      "wet eleph shake water onto peopl bath\n"
     ]
    }
   ],
   "execution_count": 42
  },
  {
   "metadata": {
    "ExecuteTime": {
     "end_time": "2024-12-19T17:52:52.120058Z",
     "start_time": "2024-12-19T17:52:52.029003Z"
    }
   },
   "cell_type": "code",
   "source": [
    "#un vocabular care sa mapeze un id\n",
    "mapped_ids = {}\n",
    "k = 0\n",
    "for i in range(len(train)):\n",
    "    for word in train['processed_caption'][i].split():\n",
    "        if word not in mapped_ids:\n",
    "            mapped_ids[word] = k\n",
    "            k += 1\n",
    "            \n",
    "        \n",
    "j = 0\n",
    "for i in range(len(val)):\n",
    "    for word in val['processed_caption'][i].split():\n",
    "        if word not in mapped_ids:\n",
    "            mapped_ids[word] = k\n",
    "            j += 1"
   ],
   "id": "830b0e92f14f895c",
   "outputs": [],
   "execution_count": 43
  },
  {
   "metadata": {
    "ExecuteTime": {
     "end_time": "2024-12-19T17:52:52.123622Z",
     "start_time": "2024-12-19T17:52:52.120876Z"
    }
   },
   "cell_type": "code",
   "source": "print(mapped_ids)",
   "id": "a3b39b193066d6c9",
   "outputs": [
    {
     "name": "stdout",
     "output_type": "stream",
     "text": [
      "{'wet': 0, 'eleph': 1, 'shake': 2, 'water': 3, 'onto': 4, 'peopl': 5, 'bath': 6, 'two': 7, 'men': 8, 'hold': 9, 'tenni': 10, 'racquet': 11, 'court': 12, 'bird': 13, 'tree': 14, 'limb': 15, 'mountain': 16, 'background': 17, 'kitchen': 18, 'dine': 19, 'room': 20, 'featur': 21, 'along': 22, 'larg': 23, 'tabl': 24, 'applianc': 25, 'chandeli': 26, 'fruit': 27, 'stand': 28, 'various': 29, 'basebal': 30, 'athlet': 31, 'get': 32, 'readi': 33, 'swing': 34, 'bat': 35, 'player': 36, 'game': 37, 'sever': 38, 'front': 39, 'tv': 40, 'monitor': 41, 'play': 42, 'wii': 43, 'babi': 44, 'lamb': 45, 'feed': 46, 'open': 47, 'field': 48, 'mother': 49, 'peer': 50, 'forward': 51, 'man': 52, 'surfboard': 53, 'wade': 54, 'ocean': 55, 'woman': 56, 'sit': 57, 'beach': 58, 'watch': 59, 'young': 60, 'girl': 61, 'helmet': 62, 'ride': 63, 'skateboard': 64, 'white': 65, 'build': 66, 'show': 67, 'glass': 68, 'window': 69, 'deep': 70, 'fryer': 71, 'microwav': 72, 'view': 73, 'long': 74, 'electr': 75, 'freight': 76, 'train': 77, 'pass': 78, 'station': 79, 'platform': 80, 'clock': 81, 'top': 82, 'tan': 83, 'gray': 84, 'tower': 85, 'farmland': 86, 'servic': 87, 'mani': 88, 'herd': 89, 'sheep': 90, 'stop': 91, 'light': 92, 'hang': 93, 'citi': 94, 'street': 95, 'jump': 96, 'return': 97, 'ball': 98, 'oppon': 99, 'plane': 100, 'wing': 101, 'seen': 102, 'boy': 103, 'closet': 104, 'toilet': 105, 'lid': 106, 'polic': 107, 'metro': 108, 'bus': 109, 'racket': 110, 'hit': 111, 'traffic': 112, 'dusk': 113, 'modern': 114, 'concept': 115, 'cow': 116, 'misti': 117, 'fog': 118, 'next': 119, 'one': 120, 'black': 121, 'suit': 122, 'talk': 123, 'podium': 124, 'wooden': 125, 'silverwar': 126, 'food': 127, 'walk': 128, 'roll': 129, 'suitcas': 130, 'dog': 131, 'yellow': 132, 'frisbe': 133, 'mouth': 134, 'slice': 135, 'cake': 136, 'frost': 137, 'plate': 138, 'red': 139, 'track': 140, 'area': 141, 'sand': 142, 'kite': 143, 'fli': 144, 'overhead': 145, 'sky': 146, 'metropolitan': 147, 'commut': 148, 'pavement': 149, 'stuf': 150, 'bear': 151, 'perch': 152, 'ledg': 153, 'pizza': 154, 'wine': 155, 'commerci': 156, 'day': 157, 'clear': 158, 'blue': 159, 'filter': 160, 'photograph': 161, 'flock': 162, 'green': 163, 'pastur': 164, 'bed': 165, 'wall': 166, 'soccer': 167, 'kick': 168, 'meal': 169, 'broccoli': 170, 'chees': 171, 'male': 172, 'profession': 173, 'serv': 174, 'four': 175, 'doubl': 176, 'decker': 177, 'passeng': 178, 'buse': 179, 'pave': 180, 'surfac': 181, 'skier': 182, 'outfit': 183, 'ski': 184, 'snow': 185, 'cover': 186, 'hill': 187, 'purpl': 188, 'reach': 189, 'bowl': 190, 'includ': 191, 'veget': 192, 'fri': 193, 'bathroom': 194, 'sink': 195, 'bathtub': 196, 'adult': 197, 'flank': 198, 'climb': 199, 'forest': 200, 'middl': 201, 'engag': 202, 'heat': 203, 'competit': 204, 'wear': 205, 'nut': 206, 'dri': 207, 'canist': 208, 'carrot': 209, 'celeri': 210, 'anoth': 211, 'grapefruit': 212, 'yet': 213, 'grind': 214, 'metal': 215, 'rail': 216, 'snowboard': 217, 'pose': 218, 'pictur': 219, 'slope': 220, 'steepl': 221, 'surfer': 222, 'side': 223, 'wave': 224, 'signal': 225, 'lit': 226, 'tall': 227, 'built': 228, 'corner': 229, 'edg': 230, 'coach': 231, 'shirt': 232, 'live': 233, 'chair': 234, 'counter': 235, 'televis': 236, 'batter': 237, 'prepar': 238, 'display': 239, 'market': 240, 'sidewalk': 241, 'group': 242, 'flat': 243, 'wide': 244, 'zebra': 245, 'foliag': 246, 'goat': 247, 'fenc': 248, 'surf': 249, 'wait': 250, 'distanc': 251, 'graze': 252, 'sunni': 253, 'stove': 254, 'refriger': 255, 'person': 256, 'near': 257, 'bike': 258, 'spot': 259, 'grassi': 260, 'streak': 261, 'cloud': 262, 'backdrop': 263, 'backpack': 264, 'go': 265, 'escal': 266, 'banana': 267, 'fill': 268, 'lot': 269, 'unrip': 270, 'billboard': 271, 'celebr': 272, 'ten': 273, 'year': 274, 'film': 275, 'wetsuit': 276, 'board': 277, 'waiter': 278, 'three': 279, 'giraff': 280, 'delici': 281, 'look': 282, 'beef': 283, 'dumpl': 284, 'leg': 285, 'tattoo': 286, 'towel': 287, 'cat': 288, 'pool': 289, 'nativ': 290, 'drive': 291, 'cart': 292, 'pull': 293, 'draught': 294, 'hors': 295, 'fair': 296, 'individu': 297, 'resort': 298, 'shown': 299, 'imag': 300, 'orang': 301, 'electron': 302, 'devic': 303, 'airplan': 304, 'skii': 305, 'gate': 306, 'home': 307, 'small': 308, 'clutter': 309, 'decor': 310, 'shade': 311, 'brown': 312, 'car': 313, 'travel': 314, 'busi': 315, 'ultim': 316, 'contest': 317, 'mirror': 318, 'catcher': 319, 'behind': 320, 'stainless': 321, 'steel': 322, 'dirt': 323, 'road': 324, 'surround': 325, 'differ': 326, 'size': 327, 'color': 328, 'vase': 329, 'mote': 330, 'old': 331, 'bicycl': 332, 'night': 333, 'sign': 334, 'leap': 335, 'grass': 336, 'current': 337, 'mid': 338, 'empti': 339, 'park': 340, 'bench': 341, 'flower': 342, 'hotel': 343, 'appl': 344, 'mous': 345, 'keyboard': 346, 'cream': 347, 'sofa': 348, 'pink': 349, 'lap': 350, 'comput': 351, 'rustic': 352, 'floor': 353, 'cabinet': 354, 'tablet': 355, 'posit': 356, 'strike': 357, 'desk': 358, 'paper': 359, 'phone': 360, 'box': 361, 'donut': 362, 'tub': 363, 'us': 364, 'sale': 365, 'big': 366, 'ben': 367, 'subway': 368, 'umbrella': 369, 'upsid': 370, 'cano': 371, 'offic': 372, 'doughnut': 373, 'couch': 374, 'pillow': 375, 'panda': 376, 'zoo': 377, 'close': 378, 'air': 379, 'team': 380, 'mascot': 381, 'repres': 382, 'lightn': 383, 'bolt': 384, 'glove': 385, 'shirtless': 386, 'silver': 387, 'flip': 388, 'site': 389, 'bottl': 390, 'photo': 391, 'bunch': 392, 'wed': 393, 'around': 394, 'ornat': 395, 'antiqu': 396, 'scene': 397, 'museum': 398, 'river': 399, 'bake': 400, 'pan': 401, 'cut': 402, 'set': 403, 'collect': 404, 'anim': 405, 'fire': 406, 'hydrant': 407, 'cartoon': 408, 'trunk': 409, 'trick': 410, 'other': 411, 'branch': 412, 'dinner': 413, 'contain': 414, 'mash': 415, 'potato': 416, 'meat': 417, 'straw': 418, 'stroke': 419, 'poni': 420, 'hat': 421, 'lay': 422, 'intersect': 423, 'femal': 424, 'lung': 425, 'motorcycl': 426, 'van': 427, 'paint': 428, 'women': 429, 'need': 430, 'coupl': 431, 'curb': 432, 'children': 433, 'chain': 434, 'link': 435, 'besid': 436, 'shorter': 437, 'number': 438, 'fun': 439, 'china': 440, 'southern': 441, 'airlin': 442, 'boe': 443, '787': 444, 'dreamlin': 445, 'approach': 446, 'stunt': 447, 'christma': 448, 'furnish': 449, 'lean': 450, 'cell': 451, 'smile': 452, 'joseph': 453, 'william': 454, 'boat': 455, 'ground': 456, 'lake': 457, 'motorcyclist': 458, 'motion': 459, 'skate': 460, 'pipe': 461, 'outsid': 462, 'togeth': 463, 'piec': 464, 'luggag': 465, 'tarmac': 466, 'airport': 467, 'time': 468, 'broken': 469, 'lie': 470, 'dress': 471, 'dual': 472, 'also': 473, 'host': 474, 'cup': 475, 'coffe': 476, 'thin': 477, 'ingredi': 478, 'race': 479, 'cross': 480, 'countri': 481, 'urban': 482, 'signag': 483, 'screen': 484, 'eleg': 485, 'fan': 486, 'gather': 487, 'sport': 488, 'event': 489, 'support': 490, 'singl': 491, 'floret': 492, 'larger': 493, 'garden': 494, 'pickup': 495, 'truck': 496, 'vintag': 497, 'restor': 498, 'shelf': 499, 'uniform': 500, 'run': 501, 'toward': 502, 'patrol': 503, 'tour': 504, 'line': 505, 'row': 506, 'cemeteri': 507, 'read': 508, 'avenu': 509, 'duboulevard': 510, '61': 511, 'divis': 512, 'lone': 513, 'leav': 514, 'mope': 515, 'brick': 516, 'everi': 517, 'insid': 518, 'termin': 519, 'grey': 520, 'auto': 521, 'locomot': 522, 'multipl': 523, 'stick': 524, 'head': 525, 'like': 526, 'rapid': 527, 'varieti': 528, 'laptop': 529, 'pedal': 530, 'stationari': 531, 'indoor': 532, 'video': 533, 'purs': 534, 'vandal': 535, 'graffiti': 536, 'item': 537, 'knife': 538, 'power': 539, 'urin': 540, 'stall': 541, 'rack': 542, 'colorado': 543, 'rocki': 544, 'pitcher': 545, 'releas': 546, 'mound': 547, 'chef': 548, 'restaur': 549, 'relax': 550, 'across': 551, 'letter': 552, 'carryon': 553, 'bag': 554, 'fish': 555, 'tie': 556, 'dock': 557, 'foreground': 558, 'mp3': 559, 'pie': 560, 'layer': 561, 'chocol': 562, 'pray': 563, 'back': 564, 'seat': 565, 'full': 566, 'turkey': 567, 'cranberri': 568, 'sauc': 569, 'rest': 570, 'littl': 571, 'porcelain': 572, 'pathway': 573, 'buidl': 574, 'fixtur': 575, 'enclosur': 576, 'jet': 577, 'parasail': 578, 'scenic': 579, 'london': 580, 'england': 581, 'snowi': 582, 'dirti': 583, 'restroom': 584, 'door': 585, 'crowd': 586, 'livestock': 587, 'mark': 588, 'book': 589, 'land': 590, 'sock': 591, 'life': 592, 'jacket': 593, 'rope': 594, 'surfbaord': 595, 'wood': 596, 'hes': 597, 'hardwood': 598, 'boarder': 599, 'midflight': 600, 'invert': 601, 'steep': 602, 'hitter': 603, 'can': 604, 'soda': 605, 'sporti': 606, 'garag': 607, 'glaze': 608, 'intercept': 609, 'railway': 610, 'level': 611, 'throw': 612, 'even': 613, 'child': 614, 'pin': 615, 'sleev': 616, 'upward': 617, 'sun': 618, 'shine': 619, 'face': 620, 'pair': 621, 'tussl': 622, 'grassland': 623, 'pitch': 624, 'daylight': 625, 'wild': 626, 'vehicl': 627, 'carri': 628, 'eat': 629, 'hotdog': 630, 'shore': 631, 'tee': 632, 'dark': 633, 'yard': 634, 'waterski': 635, 'perform': 636, 'waterboard': 637, 'fashion': 638, 'footbal': 639, 'earphon': 640, 'guy': 641, 'school': 642, 'den': 643, 'bright': 644, 'stripe': 645, 'rear': 646, 'attend': 647, 'onlook': 648, 'chines': 649, 'stir': 650, 'noodl': 651, 'cute': 652, 'silhouett': 653, 'cloudi': 654, 'shower': 655, 'pant': 656, 'bare': 657, 'use': 658, 'notebook': 659, 'hand': 660, 'ladi': 661, 'unlit': 662, 'system': 663, 'european': 664, 'stretch': 665, 'control': 666, 'bodi': 667, 'teddi': 668, 'plain': 669, 'vinyl': 670, 'curtain': 671, 'wheel': 672, 'overlook': 673, 'kept': 674, 'pack': 675, 'plaza': 676, 'sunset': 677, 'famili': 678, 'half': 679, 'frisb': 680, 'laugh': 681, 'church': 682, 'arch': 683, 'product': 684, 'unusu': 685, 'camera': 686, 'angl': 687, 'attempt': 688, 'tile': 689, 'bedroom': 690, 'tini': 691, 'nice': 692, 'someon': 693, 'hous': 694, 'mini': 695, 'ice': 696, 'tabbi': 697, 'tag': 698, 'umpir': 699, 'gravi': 700, 'ladl': 701, 'solid': 702, 'blanket': 703, 'fork': 704, 'grocer': 705, 'produc': 706, 'depart': 707, 'flown': 708, 'outdoor': 709, 'airborn': 710, 'cinder': 711, 'block': 712, 'pile': 713, 'art': 714, 'sandwich': 715, 'plant': 716, 'grow': 717, 'scissor': 718, 'cloth': 719, 'flag': 720, 'hot': 721, 'tray': 722, 'drink': 723, 'mug': 724, 'pet': 725, 'asian': 726, 'sell': 727, 'ware': 728, 'slide': 729, 'homepl': 730, 'tri': 731, 'cafeteria': 732, 'cook': 733, 'sleep': 734, 'pineappl': 735, 'watermelon': 736, 'grape': 737, 'indic': 738, 'earlier': 739, 'primit': 740, 'mobil': 741, 'write': 742, 'motor': 743, 'southwest': 744, 'take': 745, 'runway': 746, 'robe': 747, 'attach': 748, 'shot': 749, 'midsw': 750, 'squar': 751, 'tomato': 752, 'style': 753, 'short': 754, 'cap': 755, 'irish': 756, 'setter': 757, 'seri': 758, 'tow': 759, 'general': 760, 'direct': 761, 'railroad': 762, 'crane': 763, 'plantlif': 764, 'boxer': 765, 'nypd': 766, 'secur': 767, 'crosswalk': 768, 'pen': 769, 'part': 770, 'slight': 771, 'hilli': 772, 'path': 773, 'brush': 774, 'teeth': 775, 'toothbrush': 776, 'hisher': 777, 'paw': 778, 'wind': 779, 'design': 780, 'advanc': 781, 'user': 782, 'act': 783, 'nerd': 784, 'parti': 785, 'margherita': 786, 'booth': 787, 'toaster': 788, 'compet': 789, 'dodg': 790, 'meter': 791, 'toddler': 792, 'crib': 793, 'remot': 794, 'equip': 795, 'residenti': 796, 'dugout': 797, 'kid': 798, 'picnic': 799, 'exampl': 800, 'moribilia': 801, 'mitt': 802, 'needl': 803, 'dessert': 804, 'giant': 805, 'rock': 806, 'trail': 807, 'horn': 808, 'stare': 809, 'nintendo': 810, 'smal': 811, 'favor': 812, 'action': 813, 'type': 814, 'entre': 815, 'pole': 816, 'cobbleston': 817, 'stylish': 818, 'fur': 819, 'desktop': 820, 'come': 821, 'woolen': 822, 'move': 823, 'lettuc': 824, 'prep': 825, 'deck': 826, 'bridg': 827, 'skatepark': 828, 'enjoy': 829, 'tugofwar': 830, 'evid': 831, 'previous': 832, 'chew': 833, 'among': 834, 'raini': 835, 'antelop': 836, 'artifici': 837, 'thing': 838, 'closeup': 839, 'disc': 840, 'haul': 841, 'dunkin': 842, 'pretti': 843, 'tempt': 844, 'irresist': 845, 'kind': 846, 'work': 847, 'balanc': 848, 'ramp': 849, 'pot': 850, 'cours': 851, 'horseback': 852, 'bride': 853, 'groom': 854, 'begin': 855, 'scooter': 856, 'tiara': 857, 'remodel': 858, 'hair': 859, 'hood': 860, 'portabl': 861, 'gas': 862, 'heater': 863, 'shelter': 864, 'rain': 865, 'practic': 866, 'depict': 867, 'sculptur': 868, 'seem': 869, 'protect': 870, 'buddha': 871, 'figurin': 872, 'case': 873, 'chrome': 874, 'birthday': 875, 'rid': 876, 'rang': 877, 'tab': 878, 'expos': 879, 'stud': 880, 'shop': 881, 'vacuum': 882, 'pour': 883, 'shrub': 884, 'kuwaiti': 885, 'flyer': 886, 'happi': 887, 'propel': 888, 'tasti': 889, 'load': 890, 'unit': 891, 'kingdom': 892, 'beauti': 893, 'roman': 894, 'numer': 895, 'bouquet': 896, 'crockeri': 897, 'onion': 898, 'parad': 899, 'banner': 900, 'foreign': 901, 'languag': 902, 'pedestrian': 903, 'cabbag': 904, 'sweet': 905, 'peach': 906, 'roam': 907, 'foal': 908, 'neat': 909, 'made': 910, 'queen': 911, 'older': 912, 'fountain': 913, 'put': 914, 'oven': 915, 'catch': 916, 'shape': 917, 'french': 918, 'tablecloth': 919, 'giraffe': 920, 'perpendicular': 921, 'radio': 922, 'sound': 923, 'artist': 924, 'gadget': 925, 'stool': 926, 'shelv': 927, 'cupboard': 928, 'object': 929, 'select': 930, 'enclos': 931, 'past': 932, 'chicken': 933, 'dish': 934, 'nearbi': 935, 'powder': 936, 'sugar': 937, 'basket': 938, 'space': 939, 'crossleg': 940, 'assemblag': 941, 'strut': 942, 'unsur': 943, 'follow': 944, 'way': 945, 'arm': 946, 'intent': 947, 'aluminum': 948, 'learn': 949, 'sheer': 950, 'coat': 951, 'sandi': 952, 'charter': 953, 'goe': 954, 'boil': 955, 'terrain': 956, 'strawberri': 957, 'duckl': 958, 'someth': 959, 'pond': 960, 'bottom': 961, 'price': 962, 'cushion': 963, 'wicker': 964, 'structur': 965, 'cellphon': 966, 'stump': 967, 'leafi': 968, 'lead': 969, 'showroom': 970, 'newspap': 971, 'environ': 972, 'match': 973, 'equestrian': 974, 'rider': 975, 'resid': 976, 'hole': 977, 'mud': 978, 'magazin': 979, 'underwat': 980, 'bull': 981, 'nineti': 982, 'degre': 983, 'huge': 984, 'round': 985, 'shorelin': 986, 'kitten': 987, 'bacon': 988, 'expir': 989, 'decemb': 990, '30th': 991, 'cooker': 992, 'cub': 993, 'wrestl': 994, 'progress': 995, 'baskebal': 996, 'downhil': 997, 'boxcar': 998, 'hitch': 999, 'unhitch': 1000, 'stone': 1001, 'cement': 1002, 'abandon': 1003, 'focus': 1004, 'bite': 1005, 'n': 1006, 'turf': 1007, 'realli': 1008, 'good': 1009, 'polka': 1010, 'dot': 1011, 'best': 1012, 'buy': 1013, 'girafe': 1014, 'bent': 1015, 'bush': 1016, 'shell': 1017, 'setup': 1018, 'lemon': 1019, 'boot': 1020, 'fireplac': 1021, 'rural': 1022, 'rib': 1023, 'corn': 1024, 'salad': 1025, 'windsurf': 1026, 'beard': 1027, 'share': 1028, 'daughter': 1029, 'mom': 1030, 'dump': 1031, 'stanc': 1032, 'util': 1033, 'pastri': 1034, 'tooth': 1035, 'elder': 1036, 'whit': 1037, 'whip': 1038, 'unpack': 1039, 'lower': 1040, 'windsock': 1041, 'blow': 1042, 'panoram': 1043, 'bachelor': 1044, 'pad': 1045, 'brazil': 1046, 'bell': 1047, 'interior': 1048, 'medicin': 1049, 'halfpip': 1050, 'enter': 1051, 'exit': 1052, 'rais': 1053, 'daytim': 1054, 'rode': 1055, 'golf': 1056, 'net': 1057, 'sandwhich': 1058, 'alpin': 1059, 'tent': 1060, 'start': 1061, 'toothpast': 1062, 'figur': 1063, 'alarm': 1064, 'barbi': 1065, 'doll': 1066, 'slipper': 1067, 'ken': 1068, 'mat': 1069, 'shoe': 1070, 'six': 1071, 'rug': 1072, 'doubledeck': 1073, 'make': 1074, 'turn': 1075, 'patch': 1076, 'end': 1077, 'marina': 1078, 'sunflow': 1079, 'cast': 1080, 'shadow': 1081, 'quiet': 1082, 'dorm': 1083, 'apart': 1084, 'poster': 1085, 'oil': 1086, 'summit': 1087, 'drawn': 1088, 'carriag': 1089, 'tight': 1090, 'furnitur': 1091, 'anchor': 1092, 'planter': 1093, 'well': 1094, 'deliv': 1095, 'desert': 1096, 'locat': 1097, 'base': 1098, 'feild': 1099, 'bread': 1100, 'muffin': 1101, 'undisclos': 1102, 'public': 1103, 'retir': 1104, 'fighter': 1105, 'airfield': 1106, 'far': 1107, 'statu': 1108, 'pepperoni': 1109, 'oliv': 1110, 'militari': 1111, 'float': 1112, 'grandfath': 1113, 'stair': 1114, 'muddi': 1115, 'grill': 1116, 'gear': 1117, 'feet': 1118, 'remain': 1119, 'middair': 1120, 'captiv': 1121, 'flame': 1122, 'lip': 1123, 'alley': 1124, 'sticker': 1125, 'check': 1126, 'reflect': 1127, 'camp': 1128, 'suppli': 1129, 'knee': 1130, 'wireless': 1131, 'hay': 1132, 'tank': 1133, 'less': 1134, 'assort': 1135, 'store': 1136, 'violet': 1137, 'walkway': 1138, 'harrison': 1139, 'carlton': 1140, 'file': 1141, 'interact': 1142, 'jetlin': 1143, 'frisbeebas': 1144, 'budapest': 1145, 'amphibi': 1146, 'sightse': 1147, 'danub': 1148, 'collar': 1149, 'cruis': 1150, 'focal': 1151, 'point': 1152, 'sunlight': 1153, 'bushi': 1154, 'elbow': 1155, 'fold': 1156, 'rice': 1157, 'sour': 1158, 'spoon': 1159, 'saucer': 1160, 'lattic': 1161, 'swim': 1162, 'trace': 1163, 'steam': 1164, 'engin': 1165, 'aircraft': 1166, '25': 1167, 'north': 1168, 'germani': 1169, 'helicopt': 1170, 'spin': 1171, 'blade': 1172, 'carrier': 1173, 'piano': 1174, 'provid': 1175, 'wire': 1176, 'buss': 1177, 'bulldog': 1178, 'dlvd': 1179, 'adjac': 1180, 'scoop': 1181, 'guacamol': 1182, 'shred': 1183, 'neon': 1184, 'sox': 1185, 'mount': 1186, 'random': 1187, 'visibl': 1188, 'era': 1189, 'adorn': 1190, 'ketchup': 1191, 'high': 1192, 'altitud': 1193, 'tournament': 1194, 'love': 1195, 'atop': 1196, 'hose': 1197, 'plug': 1198, 'blond': 1199, 'dead': 1200, 'holder': 1201, 'narrow': 1202, 'fluffi': 1203, 'twin': 1204, 'sheet': 1205, 'obstacl': 1206, 'paddl': 1207, 'quilt': 1208, 'panel': 1209, 'guitar': 1210, 'music': 1211, 'heavili': 1212, 'format': 1213, 'region': 1214, 'johnni': 1215, 'gome': 1216, '5': 1217, 'sunglass': 1218, 'leather': 1219, 'younger': 1220, 'classic': 1221, 'alon': 1222, 'bundt': 1223, 'oxen': 1224, 'tusk': 1225, 'propellor': 1226, 'outing': 1227, 'sweater': 1228, 'give': 1229, 'approv': 1230, 'infield': 1231, 'housepl': 1232, 'sill': 1233, 'stack': 1234, 'american': 1235, 'dens': 1236, 'olymp': 1237, 'appear': 1238, 'vancouv': 1239, '2010': 1240, 'sew': 1241, 'machin': 1242, 'plastic': 1243, 'rickshaw': 1244, 'rub': 1245, 'combin': 1246, 'stew': 1247, 'mix': 1248, 'center': 1249, 'travers': 1250, 'dishwash': 1251, 'post': 1252, 'ripen': 1253, 'treed': 1254, 'uncook': 1255, 'arrang': 1256, 'leagu': 1257, 'thrown': 1258, 'tulip': 1259, 'wilder': 1260, 'monorail': 1261, 'tilt': 1262, 'skylin': 1263, 'beyond': 1264, 'waterway': 1265, 'rose': 1266, 'heavi': 1267, 'stereo': 1268, 'vaniti': 1269, 'huddl': 1270, 'wagon': 1271, 'scrub': 1272, 'aerial': 1273, 'forc': 1274, 'sword': 1275, 'right': 1276, 'juic': 1277, 'continent': 1278, 'connect': 1279, 'cyclist': 1280, 'adjust': 1281, 'bale': 1282, 'haircut': 1283, 'librari': 1284, 'headphon': 1285, 'confer': 1286, 'discuss': 1287, 'topic': 1288, 'experi': 1289, 'low': 1290, 'greeneri': 1291, 'blossom': 1292, 'centerpiec': 1293, 'knock': 1294, 'savannah': 1295, 'evergreen': 1296, 'model': 1297, 'place': 1298, 'snowman': 1299, 'napkin': 1300, 'gold': 1301, 'scatter': 1302, 'pregnant': 1303, 'stomach': 1304, 'age': 1305, 'crosscountri': 1306, 'semi': 1307, 'waiv': 1308, 'glue': 1309, 'breakfast': 1310, 'tea': 1311, 'cucumb': 1312, 'grown': 1313, 'irregular': 1314, 'twisti': 1315, 'futur': 1316, 'still': 1317, 'switch': 1318, 'protestor': 1319, 'antiobama': 1320, 'propaganda': 1321, 'eye': 1322, 'knit': 1323, 'diner': 1324, 'uk': 1325, 'feeder': 1326, 'juggl': 1327, 'dodger': 1328, 'bubbl': 1329, 'gum': 1330, 'canada': 1331, 'worn': 1332, 'crucifix': 1333, 'hung': 1334, 'syrup': 1335, 'inland': 1336, 'calm': 1337, 'wilt': 1338, 'jar': 1339, 'earli': 1340, '1900s': 1341, 'ship': 1342, 'sort': 1343, 'acrobat': 1344, 'antic': 1345, 'bi': 1346, 'corridor': 1347, 'artwork': 1348, 'mean': 1349, 'flatscreen': 1350, 'asia': 1351, 'advertis': 1352, 'gang': 1353, 'biker': 1354, 'lowhang': 1355, 'patchi': 1356, 'pois': 1357, 'refere': 1358, 'concert': 1359, 'transit': 1360, 'hillsid': 1361, 'gyro': 1362, 'soup': 1363, 'cone': 1364, 'clean': 1365, 'polar': 1366, 'reindeer': 1367, 'rotat': 1368, 'tabletop': 1369, 'highway': 1370, 'clay': 1371, 'sailboat': 1372, 'sail': 1373, 'marbl': 1374, 'town': 1375, 'chop': 1376, 'collag': 1377, 'present': 1378, 'ripe': 1379, 'rancher': 1380, 'cowboy': 1381, 'tend': 1382, 'softbal': 1383, 'headband': 1384, 'midair': 1385, 'foot': 1386, 'pencil': 1387, 'aggress': 1388, 'asleep': 1389, 'mushroom': 1390, 'canal': 1391, 'describ': 1392, 'jalapeno': 1393, 'chili': 1394, 'cord': 1395, 'dome': 1396, 'ring': 1397, 'doorway': 1398, 'washer': 1399, 'volley': 1400, 'coleslaw': 1401, 'bean': 1402, 'chip': 1403, 'island': 1404, 'fridg': 1405, 'goali': 1406, 'guard': 1407, 'goal': 1408, 'baggag': 1409, 'biplan': 1410, 'coastlin': 1411, 'steer': 1412, 'bun': 1413, 'soap': 1414, 'pump': 1415, 'bikini': 1416, 'trolley': 1417, 'san': 1418, 'francisco': 1419, 'mosqu': 1420, 'candi': 1421, 'jean': 1422, 'buckl': 1423, 'belt': 1424, 'ceram': 1425, 'strip': 1426, 'bedspread': 1427, 'spectat': 1428, 'jeep': 1429, 'maroon': 1430, 'linen': 1431, 'autom': 1432, 'charact': 1433, 'despic': 1434, 'toy': 1435, 'slim': 1436, 'oldfashion': 1437, 'conductor': 1438, 'mac': 1439, 'offer': 1440, 'fast': 1441, 'await': 1442, 'visitor': 1443, 'plenti': 1444, 'storag': 1445, 'sampl': 1446, 'bar': 1447, 'competitor': 1448, 'cattl': 1449, 'quick': 1450, 'stori': 1451, 'whitebrown': 1452, 'lush': 1453, 'tortilla': 1454, 'coal': 1455, 'pepper': 1456, 'idl': 1457, 'glide': 1458, 'kiwi': 1459, 'squash': 1460, 'flow': 1461, 'stream': 1462, 'specimen': 1463, 'african': 1464, 'equid': 1465, 'hook': 1466, 'lift': 1467, 'milkshak': 1468, 'stormi': 1469, 'cereal': 1470, 'trailer': 1471, 'airshow': 1472, 'tunnel': 1473, 'shear': 1474, 'roadway': 1475, 'taken': 1476, 'harbour': 1477, 'teal': 1478, 'milk': 1479, 'most': 1480, 'chick': 1481, 'marsh': 1482, 'farmer': 1483, 'becom': 1484, 'popular': 1485, 'destin': 1486, 'fine': 1487, 'beig': 1488, 'curl': 1489, 'pigeon': 1490, 'roof': 1491, 'chimney': 1492, 'weather': 1493, 'vane': 1494, 'windup': 1495, 'butter': 1496, 'congratul': 1497, 'fox': 1498, '4': 1499, 'launch': 1500, 'salt': 1501, 'away': 1502, 'pinstrip': 1503, 'eight': 1504, 'fallen': 1505, 'vultur': 1506, 'flight': 1507, 'newli': 1508, 'marri': 1509, 'rim': 1510, 'interest': 1511, 'potteri': 1512, 'that': 1513, 'parallel': 1514, 'welldesign': 1515, 'dig': 1516, 'tram': 1517, 'meadow': 1518, 'aer': 1519, 'lingus': 1520, 'tball': 1521, 'headboard': 1522, 'laid': 1523, 'fall': 1524, 'smoke': 1525, 'costum': 1526, 'parachut': 1527, 'lama': 1528, 'alpaca': 1529, 'farm': 1530, 'bank': 1531, 'occupi': 1532, 'maneuv': 1533, 'thatch': 1534, 'uneaten': 1535, 'beer': 1536, 'possibl': 1537, 'singapor': 1538, 'overcast': 1539, 'tail': 1540, 'warehous': 1541, 'ii': 1542, 'vessel': 1543, 'cardboard': 1544, 'reef': 1545, 'freshen': 1546, 'gravel': 1547, 'state': 1548, 'classroom': 1549, 'chalkboard': 1550, 'unbox': 1551, 'finish': 1552, 'bakeri': 1553, 'proper': 1554, 'success': 1555, 'sunshin': 1556, 'styrofoam': 1557, 'wedg': 1558, 'kiss': 1559, 'calf': 1560, 'habitat': 1561, 'ostrich': 1562, 'okapi': 1563, 'colt': 1564, 'refridger': 1565, 'packag': 1566, 'bought': 1567, 'sold': 1568, 'ergonom': 1569, 'compar': 1570, 'compact': 1571, 'thick': 1572, 'crust': 1573, 'eaten': 1574, 'nighttim': 1575, 'pork': 1576, 'unmad': 1577, 'listen': 1578, 'illumin': 1579, 'lane': 1580, 'curv': 1581, 'arrow': 1582, 'awn': 1583, 'miscellan': 1584, 'accent': 1585, 'broth': 1586, 'rodeo': 1587, 'particip': 1588, 'speed': 1589, 'egg': 1590, 'crate': 1591, 'held': 1592, 'strang': 1593, 'contrapt': 1594, 'linda': 1595, 'casserol': 1596, 'foggi': 1597, 'underneath': 1598, 'step': 1599, 'ham': 1600, 'defens': 1601, 'exterior': 1602, 'crest': 1603, 'runner': 1604, 'first': 1605, 'beam': 1606, 'prop': 1607, 'downward': 1608, 'viewer': 1609, 'countrysid': 1610, 'headscarf': 1611, 'trench': 1612, 'patti': 1613, 'overpass': 1614, 'separ': 1615, 'unpaint': 1616, 'pickl': 1617, 'cauliflow': 1618, 'mason': 1619, 'backsw': 1620, 'steak': 1621, 'mountainsid': 1622, 'interst': 1623, 'tofu': 1624, 'policeman': 1625, 'sidedish': 1626, 'slant': 1627, 'extend': 1628, 'swimsuit': 1629, 'pier': 1630, 'relish': 1631, 'foil': 1632, 'wrapper': 1633, 'harbor': 1634, 'bicyclist': 1635, 'landscap': 1636, 'apron': 1637, 'mixtur': 1638, 'blurri': 1639, 'proxim': 1640, 'cycl': 1641, 'snack': 1642, 'innov': 1643, 'digit': 1644, 'dial': 1645, 'petal': 1646, 'abund': 1647, 'grain': 1648, 'silo': 1649, 'ag': 1650, '4h': 1651, 'alongsid': 1652, 'pasta': 1653, 'consumpt': 1654, 'reserv': 1655, 'spray': 1656, 'appli': 1657, 'simultan': 1658, 'grove': 1659, 'finger': 1660, 'skiier': 1661, 'bunni': 1662, 'gaug': 1663, 'dashboard': 1664, 'spinach': 1665, 'casual': 1666, 'friend': 1667, 'jam': 1668, 'jelliesmeat': 1669, 'garbag': 1670, 'liquid': 1671, '3d': 1672, 'count': 1673, 'strewn': 1674, 'concret': 1675, 'brows': 1676, 'spars': 1677, 'cockatoo': 1678, 'written': 1679, 'five': 1680, 'wipe': 1681, 'youth': 1682, 'raquet': 1683, 'break': 1684, 'cityscap': 1685, 'el': 1686, 'chicago': 1687, 'fresh': 1688, 'countertop': 1689, '20': 1690, 'contact': 1691, 'spring': 1692, 'heard': 1693, 'dairi': 1694, 'selfi': 1695, 'kneel': 1696, 'pedest': 1697, 'beak': 1698, 'bookshelv': 1699, 'airstrip': 1700, 'member': 1701, 'button': 1702, 'son': 1703, 'employe': 1704, 'stadium': 1705, 'social': 1706, 'alcohol': 1707, 'bookshelf': 1708, 'depot': 1709, 'great': 1710, 'cloudless': 1711, 'sunlit': 1712, 'messi': 1713, 'hamburg': 1714, 'preserv': 1715, 'beneath': 1716, 'fight': 1717, 'care': 1718, 'broadway': 1719, 'yanke': 1720, 'freezer': 1721, 'modest': 1722, 'lamp': 1723, 'alter': 1724, 'hunter': 1725, 'kill': 1726, 'danc': 1727, 'elev': 1728, 'handler': 1729, 'pumpkin': 1730, 'angri': 1731, 'odd': 1732, 'barrel': 1733, 'process': 1734, 'kitchenett': 1735, 'leaf': 1736, 'dangl': 1737, 'jersey': 1738, 'new': 1739, 'york': 1740, 'angel': 1741, 'owner': 1742, 'aim': 1743, 'winter': 1744, 'enthusiast': 1745, 'facial': 1746, 'grand': 1747, 'strong': 1748, 'los': 1749, 'sepia': 1750, 'meet': 1751, 'record': 1752, 'rusti': 1753, 'crack': 1754, 'patriot': 1755, 'manner': 1756, 'author': 1757, 'personnel': 1758, 'gunman': 1759, 'shoot': 1760, 'har': 1761, 'jumper': 1762, 'extens': 1763, 'incom': 1764, 'wtih': 1765, 'worker': 1766, 'conveyor': 1767, 'snowmen': 1768, 'suburban': 1769, 'backyard': 1770, 'recent': 1771, 'berri': 1772, 'lawn': 1773, 'plow': 1774, 'baseman': 1775, 'bow': 1776, 'marker': 1777, 'cleric': 1778, 'tool': 1779, 'salmon': 1780, 'asparagus': 1781, 'print': 1782, 'monday': 1783, '8': 1784, 'candl': 1785, 'lego': 1786, 'hard': 1787, 'collector': 1788, 'call': 1789, 'longhorn': 1790, 'reclin': 1791, 'barn': 1792, 'entryway': 1793, 'radish': 1794, 'tug': 1795, 'port': 1796, 'alleyway': 1797, 'slip': 1798, 'contrail': 1799, 'silouhett': 1800, 'intertwin': 1801, 'ornament': 1802, 'situat': 1803, 'valanc': 1804, 'whole': 1805, 'duck': 1806, 'ferri': 1807, 'champagn': 1808, 'british': 1809, 'columbia': 1810, 'poss': 1811, 'hockey': 1812, 'tshirt': 1813, 'furthest': 1814, 'poor': 1815, 'examin': 1816, 'crisp': 1817, 'craggi': 1818, 'paperwork': 1819, 'siames': 1820, 'bagel': 1821, 'repair': 1822, 'bead': 1823, 'kit': 1824, 'push': 1825, 'neck': 1826, 'pay': 1827, 'parrot': 1828, 'touch': 1829, 'claw': 1830, 'potluck': 1831, 'buffet': 1832, 'beverag': 1833, 'streetsid': 1834, 'fed': 1835, 'windshield': 1836, 'tradit': 1837, 'exhibit': 1838, 'philadelphia': 1839, 'memorabilia': 1840, 'suv': 1841, 'flatb': 1842, 'patio': 1843, 'floral': 1844, 'mantl': 1845, 'cherri': 1846, 'marketplac': 1847, 'nose': 1848, 'audienc': 1849, 'perspect': 1850, 'barefoot': 1851, 'detail': 1852, 'complet': 1853, 'sceneri': 1854, 'safeti': 1855, 'march': 1856, 'camouflag': 1857, 'toss': 1858, 'scape': 1859, 'speciman': 1860, 'pine': 1861, 'recumb': 1862, 'presum': 1863, 'simpl': 1864, 'driver': 1865, 'exteriior': 1866, 'joust': 1867, 'demonstr': 1868, 'rundown': 1869, 'ne': 1870, 'fail': 1871, 'st': 1872, 'opposit': 1873, 'creat': 1874, 'illus': 1875, 'avid': 1876, 'lifejacket': 1877, 'suggest': 1878, 'foodbear': 1879, 'major': 1880, 'rippl': 1881, 'expans': 1882, 'oar': 1883, 'studi': 1884, 'map': 1885, 'highchair': 1886, 'almost': 1887, 'halfway': 1888, 'herb': 1889, 'outfield': 1890, 'magnet': 1891, 'swung': 1892, 'multicolor': 1893, 'belli': 1894, 'polit': 1895, 'politician': 1896, 'hospit': 1897, 'custom': 1898, 'margin': 1899, 'student': 1900, 'oper': 1901, 'messag': 1902, 'geometr': 1903, 'cuddl': 1904, 'monument': 1905, 'left': 1906, 'scantili': 1907, 'clad': 1908, 'formal': 1909, 'rough': 1910, 'cutter': 1911, 'roma': 1912, 'logo': 1913, 'taxidermi': 1914, 'hyena': 1915, 'chase': 1916, 'macaroni': 1917, 'paus': 1918, 'infant': 1919, 'airlplan': 1920, 'barrier': 1921, 'rackett': 1922, 'inspect': 1923, 'sesam': 1924, 'seed': 1925, 'involv': 1926, 'castl': 1927, 'aqua': 1928, 'parka': 1929, 'lighthous': 1930, 'bay': 1931, 'tast': 1932, 'mechan': 1933, 'materi': 1934, 'blizzard': 1935, 'peanut': 1936, 'jelli': 1937, 'wildebeast': 1938, 'slab': 1939, 'lynn': 1940, 'cuff': 1941, 'backgroun': 1942, 'collid': 1943, 'wheeler': 1944, 'dispers': 1945, 'citrus': 1946, 'snowcov': 1947, 'graphic': 1948, 'true': 1949, 'natur': 1950, 'fit': 1951, 'potti': 1952, 'jungl': 1953, 'hoof': 1954, 'pirat': 1955, 'motif': 1956, 'shini': 1957, 'coin': 1958, 'instead': 1959, 'fettuccin': 1960, 'histor': 1961, 'similar': 1962, 'deodor': 1963, 'shampoo': 1964, 'nutrit': 1965, 'lotion': 1966, 'floormat': 1967, 'ceil': 1968, 'human': 1969, 'homemad': 1970, 'enough': 1971, 'ethernet': 1972, 'modem': 1973, 'commod': 1974, 'amtrak': 1975, 'key': 1976, 'datebook': 1977, 'cigarett': 1978, 'soft': 1979, 'conceal': 1980, 'smaller': 1981, 'fat': 1982, 'mainten': 1983, 'browni': 1984, 'speaker': 1985, 'sideway': 1986, 'transfer': 1987, 'root': 1988, 'garlic': 1989, 'ginger': 1990, 'sea': 1991, 'foam': 1992, 'bucket': 1993, 'destroy': 1994, 'rein': 1995, 'lasagna': 1996, 'untouch': 1997, 'loung': 1998, 'drawer': 1999, 'neighborhood': 2000, 'elepwhnt': 2001, 'woolli': 2002, 'iron': 2003, 'glow': 2004, 'barbedwir': 2005, 'column': 2006, 'trash': 2007, 'serious': 2008, 'teammat': 2009, 'rainbow': 2010, 'bullhorn': 2011, 'stage': 2012, 'smear': 2013, 'mustard': 2014, 'frontier': 2015, 'diagon': 2016, 'len': 2017, 'dude': 2018, 'hundr': 2019, 'sneaker': 2020, 'wake': 2021, 'overflow': 2022, 'gutter': 2023, 'kiteboard': 2024, 'loaf': 2025, 'grab': 2026, 'tp': 2027, 'roller': 2028, 'generous': 2029, 'luxuri': 2030, 'necess': 2031, 'screensav': 2032, 'score': 2033, 'unmak': 2034, 'dresser': 2035, 'palm': 2036, 'halfeaten': 2037, 'entertain': 2038, 'cupcak': 2039, 'arid': 2040, 'climat': 2041, 'fulton': 2042, 'mall': 2043, 'gees': 2044, 'waterfal': 2045, 'ascend': 2046, 'hut': 2047, 'automobil': 2048, 'washington': 2049, 'cooki': 2050, '3': 2051, 'tangerin': 2052, 'moor': 2053, 'frame': 2054, 'strap': 2055, 'followthrough': 2056, 'skirt': 2057, 'duplic': 2058, 'amount': 2059, 'tourist': 2060, 'content': 2061, 'cane': 2062, 'blood': 2063, 'fake': 2064, 'money': 2065, 'lamin': 2066, 'trim': 2067, 'dollhous': 2068, 'ram': 2069, 'squirrel': 2070, 'name': 2071, 'eason': 2072, 'entranc': 2073, 'pear': 2074, 'outdat': 2075, 'trough': 2076, 'matur': 2077, 'shadi': 2078, 'raft': 2079, 'basketbal': 2080, 'basement': 2081, 'trampolin': 2082, 'printer': 2083, 'scanner': 2084, 'poodl': 2085, 'hairi': 2086, 'industri': 2087, 'pattern': 2088, 'steal': 2089, 'say': 2090, 'av': 2091, 'mile': 2092, 'franc': 2093, 'leak': 2094, 'caus': 2095, 'flood': 2096, 'stoplight': 2097, 'masai': 2098, 'conflict': 2099, 'but': 2100, 'proven': 2101, 'lump': 2102, 'develop': 2103, 'descend': 2104, 'waver': 2105, 'bock': 2106, 'pit': 2107, 'maintain': 2108, 'buri': 2109, 'handl': 2110, 'spaghetti': 2111, 'taxi': 2112, '2': 2113, 'owl': 2114, 'polo': 2115, 'outstretch': 2116, 'ipod': 2117, 'hallway': 2118, 'demolish': 2119, 'amateur': 2120, 'thought': 2121, 'hiker': 2122, 'visit': 2123, 'ear': 2124, 'flour': 2125, 'cola': 2126, 'seattl': 2127, 'scarv': 2128, 'roast': 2129, 'partial': 2130, 'spill': 2131, 'juvenil': 2132, 'vy': 2133, 'wash': 2134, 'lamppost': 2135, 'gglass': 2136, 'airway': 2137, 'cordoroy': 2138, 'fishbowl': 2139, 'racer': 2140, 'decis': 2141, 'eras': 2142, 'thread': 2143, 'hoop': 2144, 'needlepoint': 2145, 'project': 2146, 'possess': 2147, 'cubicl': 2148, 'calzon': 2149, 'brad': 2150, 'wrap': 2151, 'ugli': 2152, 'hawk': 2153, 'limit': 2154, 'miniatur': 2155, 'shorn': 2156, 'shrine': 2157, 'virgin': 2158, 'mari': 2159, 'trekk': 2160, 'reveal': 2161, 'stock': 2162, 'string': 2163, 'special': 2164, 'yarn': 2165, 'swimmer': 2166, 'effect': 2167, 'forehand': 2168, 'orient': 2169, 'emerg': 2170, 'respons': 2171, 'shallow': 2172, 'campsit': 2173, 'ton': 2174, 'damag': 2175, 'renov': 2176, 'swoop': 2177, 'looker': 2178, 'audio': 2179, 'tier': 2180, 'tampa': 2181, 'ray': 2182, 'businessmen': 2183, 'lobbi': 2184, 'cold': 2185, 'takeoff': 2186, 'condiment': 2187, 'danger': 2188, 'lose': 2189, 'ivori': 2190, 'rhinocero': 2191, 'faucet': 2192, 'eggcup': 2193, 'cornflak': 2194, 'tarp': 2195, 'claim': 2196, 'requir': 2197, 'addit': 2198, 'relat': 2199, 'lclose': 2200, 'measur': 2201, 'tape': 2202, 'chopstick': 2203, 'protest': 2204, 'parasol': 2205, 'wroughtiron': 2206, 'pounc': 2207, 'hauler': 2208, 'welltrim': 2209, 'construct': 2210, 'keep': 2211, 'skill': 2212, 'abbrevi': 2213, 'seagul': 2214, 'profil': 2215, 'union': 2216, 'pacif': 2217, 'slogan': 2218, 'america': 2219, 'saucepan': 2220, 'simmer': 2221, 'caramel': 2222, 'scratch': 2223, 'violin': 2224, 'section': 2225, 'border': 2226, 'compart': 2227, 'circl': 2228, 'ident': 2229, 'vast': 2230, 'quantiti': 2231, 'text': 2232, 'starv': 2233, 'spire': 2234, 'german': 2235, 'displayn': 2236, 'nurs': 2237, 'skiver': 2238, 'vine': 2239, 'warmer': 2240, 'menu': 2241, 'pawn': 2242, 'tint': 2243, 'heart': 2244, 'order': 2245, 'teach': 2246, 'tricolor': 2247, 'peek': 2248, 'rectangular': 2249, 'fishey': 2250, 'coca': 2251, 'canopi': 2252, 'roundcorn': 2253, 'suspend': 2254, 'upramp': 2255, 'alfredo': 2256, 'fanci': 2257, 'thoma': 2258, 'theme': 2259, 'household': 2260, 'santa': 2261, 'portrait': 2262, 'bapp': 2263, 'hoodi': 2264, 'preen': 2265, 'buddi': 2266, 'challeng': 2267, 'offshor': 2268, 'climber': 2269, 'huger': 2270, 'singin': 2271, 'heliport': 2272, 'outskirt': 2273, 'organ': 2274, 'would': 2275, 'advis': 2276, 'famous': 2277, 'bidet': 2278, 'label': 2279, 'sub': 2280, 'lunch': 2281, '1st': 2282, '2nd': 2283, 'voodoo': 2284, 'unconvent': 2285, 'froot': 2286, 'loop': 2287, 'sunbath': 2288, 'calico': 2289, 'sniff': 2290, 'facad': 2291, 'outerwear': 2292, 'express': 2293, 'slap': 2294, 'swinghit': 2295, 'combo': 2296, 'pc': 2297, 'mattress': 2298, 'stem': 2299, 'offici': 2300, 'austrian': 2301, 'escort': 2302, 'vibrant': 2303, 'tiedi': 2304, 'fransico': 2305, 'padr': 2306, 'whistl': 2307, 'gel': 2308, 'wrist': 2309, 'wrest': 2310, 'barb': 2311, 'heel': 2312, 'attir': 2313, '473': 2314, 'pullin': 2315, 'cabin': 2316, 'pea': 2317, 'fireman': 2318, 'conedoff': 2319, 'plan': 2320, 'necessari': 2321, 'hamper': 2322, 'undergo': 2323, 'aid': 2324, 'techniqu': 2325, 'lorikeet': 2326, 'yorkshir': 2327, 'terrier': 2328, 'puppi': 2329, 'ronald': 2330, 'reagan': 2331, 'alle': 2332, 'berlin': 2333, 'waist': 2334, 'tvand': 2335, 'assembl': 2336, 'stark': 2337, 'promot': 2338, 'gourmet': 2339, 'divid': 2340, 'curtiss': 2341, 'p40': 2342, 'warhawk': 2343, 'instruct': 2344, 'inform': 2345, 'hanger': 2346, 'peel': 2347, 'plantain': 2348, 'season': 2349, 'oneey': 2350, '4wheel': 2351, 'largewheel': 2352, 'pancak': 2353, 'gridl': 2354, 'unfinish': 2355, 'hide': 2356, 'unseen': 2357, 'crook': 2358, 'shoulder': 2359, 'disinterest': 2360, 'bore': 2361, 'self': 2362, 'neglect': 2363, 'unclean': 2364, 'guinea': 2365, 'pig': 2366, 'cage': 2367, 'band': 2368, 'booklet': 2369, 'mario': 2370, 'luigi': 2371, 'activ': 2372, 'magnifi': 2373, 'rugbi': 2374, 'avoid': 2375, 'privat': 2376, 'what': 2377, 'harley': 2378, 'davidson': 2379, 'seven': 2380, 'etc': 2381, 'grizzli': 2382, 'chin': 2383, 'tenant': 2384, 'healthi': 2385, 'ador': 2386, 'swiss': 2387, 'armi': 2388, 'knive': 2389, 'accessori': 2390, 'patron': 2391, 'log': 2392, 'admir': 2393, 'rise': 2394, 'transport': 2395, 'twenti': 2396, 'jumbo': 2397, 'shuttl': 2398, 'join': 2399, 'lodg': 2400, 'cheeseburg': 2401, 'projector': 2402, 'carpet': 2403, 'nestl': 2404, 'tuxedo': 2405, 'mill': 2406, 'averi': 2407, 'plaid': 2408, 'westminst': 2409, 'palac': 2410, 'bend': 2411, 'saddl': 2412, 'presid': 2413, 'obama': 2414, '2009': 2415, 'shutter': 2416, 'miss': 2417, 'novelti': 2418, 'handicap': 2419, 'handrail': 2420, 'firetruck': 2421, 'defend': 2422, 'arena': 2423, 'grip': 2424, 'scrambl': 2425, 'wallpap': 2426, 'symbol': 2427, 'pale': 2428, 'l': 2429, 'r': 2430, 'laser': 2431, 'cool': 2432, 'massiv': 2433, 'extrem': 2434, 'nasti': 2435, 'toiletri': 2436, 'unload': 2437, 'streetlamp': 2438, 'asurf': 2439, 'accompani': 2440, 'xbox': 2441, 'flash': 2442, 'barricad': 2443, 'done': 2444, 'actual': 2445, 'colleg': 2446, 'graduat': 2447, 'ceremoni': 2448, 'slow': 2449, 'circus': 2450, 'pursu': 2451, 'stalk': 2452, 'lock': 2453, 'dam': 2454, 'coo': 2455, 'neckti': 2456, 'pocket': 2457, 'octopus': 2458, 'led': 2459, 'trainer': 2460, 'rhubarb': 2461, 'nectarin': 2462, 'energet': 2463, 'lox': 2464, 'gooey': 2465, 'canning': 2466, 'hage': 2467, 'central': 2468, 'dough': 2469, 'duke': 2470, 'ellington': 2471, 'blvd': 2472, 'w': 2473, '106': 2474, 'better': 2475, 'pelican': 2476, 'fuzzi': 2477, 'elf': 2478, 'blender': 2479, 'blend': 2480, 'ridden': 2481, 'jockey': 2482, 'sprinkl': 2483, 'lazili': 2484, 'weed': 2485, 'bumper': 2486, 'capboard': 2487, 'geisha': 2488, 'descent': 2489, 'medium': 2490, 'skater': 2491, 'gazell': 2492, 'rearview': 2493, 'silhouet': 2494, 'rush': 2495, 'damp': 2496, 'plume': 2497, 'sleek': 2498, 'wit': 2499, 'smoothi': 2500, 'note': 2501, 'fedex': 2502, 'thumb': 2503, 'version': 2504, 'onsit': 2505, 'accid': 2506, 'freeway': 2507, 'maker': 2508, 'shorebird': 2509, 'cargo': 2510, 'processor': 2511, 'prove': 2512, 'crumb': 2513, 'trip': 2514, 'sequenc': 2515, 'nest': 2516, 'squat': 2517, 'defec': 2518, 'lowli': 2519, 'rhino': 2520, 'stadn': 2521, 'volleybal': 2522, 'help': 2523, 'guid': 2524, 'shave': 2525, 'tip': 2526, 'wheat': 2527, 'watercolor': 2528, '634': 2529, 'list': 2530, 'bomber': 2531, 'aisl': 2532, 'rabbit': 2533, 'contemporari': 2534, 'parent': 2535, 'news': 2536, 'gone': 2537, 'knickknack': 2538, 'smart': 2539, 'pretzel': 2540, 'consist': 2541, 'burger': 2542, 'execut': 2543, 'bunt': 2544, 'blur': 2545, 'lab': 2546, 'neutral': 2547, 'shag': 2548, 'ana': 2549, 'pick': 2550, 'orangecolor': 2551, 'bill': 2552, 'crawl': 2553, 'journal': 2554, 'wildebeest': 2555, 'per': 2556, 'standard': 2557, 'detroit': 2558, 'tiger': 2559, 'juli': 2560, 'instal': 2561, 'crew': 2562, 'gown': 2563, 'hammertim': 2564, 'mapl': 2565, 'mural': 2566, 'jack': 2567, 'hangar': 2568, 'pajama': 2569, 'hue': 2570, 'confront': 2571, 'bast': 2572, 'vanilla': 2573, '5th': 2574, 'gondoli': 2575, 'rower': 2576, 'starwar': 2577, 'cd': 2578, 'radiat': 2579, 'sone': 2580, 'goer': 2581, 'nugget': 2582, 'out': 2583, 'contrast': 2584, 'curious': 2585, 'observ': 2586, 'card': 2587, 'resurfac': 2588, 'payment': 2589, 'windsor': 2590, 'knot': 2591, 'streetcar': 2592, 'buggi': 2593, 'penguin': 2594, 'bin': 2595, 'japan': 2596, 'asiana': 2597, 'charger': 2598, 'nap': 2599, 'stoon': 2600, 'backback': 2601, 'tin': 2602, 'deer': 2603, 'either': 2604, 'higher': 2605, 'glare': 2606, 'caution': 2607, 'midjump': 2608, 'sidecar': 2609, '2006': 2610, 'soak': 2611, 'vice': 2612, 'drill': 2613, 'dryer': 2614, 'sittin': 2615, 'speedomet': 2616, 'mail': 2617, 'oatmeal': 2618, 'triangl': 2619, 'curri': 2620, 'glossi': 2621, 'tripoc': 2622, 'teenag': 2623, 'modifi': 2624, 'basin': 2625, 'sled': 2626, 'split': 2627, 'hover': 2628, 'windowsil': 2629, 'bundl': 2630, 'speak': 2631, 'convers': 2632, 'amongst': 2633, 'tugboat': 2634, 'scout': 2635, 'sash': 2636, 'badg': 2637, 'tabi': 2638, 'skaterboard': 2639, 'zone': 2640, 'supermarket': 2641, 'jew': 2642, 'stuck': 2643, 'bbq': 2644, 'vitamin': 2645, 'firefight': 2646, 'blaze': 2647, 'rotten': 2648, 'architectur': 2649, 'magnific': 2650, 'keeper': 2651, 'canadian': 2652, 'corral': 2653, 'goi': 2654, 'font': 2655, 'flyi': 2656, 'crouch': 2657, 'comfort': 2658, 'twitter': 2659, 'nook': 2660, 'none': 2661, 'flush': 2662, 'oncom': 2663, 'mmm': 2664, 'barbequ': 2665, 'dim': 2666, 'derek': 2667, 'jeter': 2668, 'liddl': 2669, 'cathedr': 2670, 'avocado': 2671, 'dive': 2672, 'disassembl': 2673, 'policemen': 2674, 'oppos': 2675, 'spread': 2676, 'soldier': 2677, 'unison': 2678, 'safari': 2679, 'caption': 2680, 'theater': 2681, 'oranget': 2682, 'footboard': 2683, 'lincoln': 2684, 'yacht': 2685, 'pulpit': 2686, 'artichok': 2687, 'firerescu': 2688, 'comb': 2689, 'toast': 2690, 'galley': 2691, 'cocktail': 2692, 'crutch': 2693, 'seawe': 2694, 'eagl': 2695, 'yummi': 2696, 'playground': 2697, 'attain': 2698, 'donkey': 2699, 'japanes': 2700, 'yogurt': 2701, 'seal': 2702, 'stovetop': 2703, 'cocker': 2704, 'spaniel': 2705, 'howl': 2706, 'outhous': 2707, 'flannel': 2708, 'kangaroo': 2709, 'villag': 2710, 'meander': 2711, 'posterior': 2712, 'swish': 2713, 'trinket': 2714, 'flask': 2715, 'toilett': 2716, 'yoeni': 2717, 'cesped': 2718, 'oakland': 2719, 'sing': 2720, 'karaok': 2721, 'halloween': 2722, 'delapid': 2723, 'tidi': 2724, 'cur': 2725, 'smiley': 2726, 'diecast': 2727, 'diorama': 2728, '164': 2729, 'scale': 2730, 'peak': 2731, 'cellular': 2732, 'ad': 2733, 'war': 2734, 'annot': 2735, 'cookout': 2736, 'spacious': 2737, 'explor': 2737, 'medway': 2737, 'hug': 2737, 'cabinetri': 2737, 'visor': 2737, 'word': 2737, 'bnse': 2737, 'utensil': 2737, 'lineup': 2737, 'ramen': 2737, 'ralli': 2737, 'drift': 2737, 'wellus': 2737, 'coordin': 2737, 'circular': 2737, 'nail': 2737, 'staff': 2737, 'lufthansa': 2737, 'recogniz': 2737, 'counti': 2737, 'nok': 2737, 'pepl': 2737, 'animallik': 2737, 'abut': 2737, 'wool': 2737, 'firemen': 2737, 'rout': 2737, 'raincoat': 2737, 'approachingmaximum': 2737, '30': 2737, 'kmh': 2737, '22': 2737, 'regent': 2737, '9600': 2737, 'veggi': 2737, 'schwalbenstrass': 2737, 'swimtrunk': 2737, 'blackbrown': 2737, 'moron': 2737, 'paintshop': 2737, 'defac': 2737, 'attract': 2737, 'typic': 2737, 'dispens': 2737, 'redorang': 2737, 'courtyard': 2737, 'emot': 2737, 'robin': 2737, 'backhand': 2737, 'holiday': 2737, 'hunch': 2737, 'dilapid': 2737, 'without': 2737, 'burner': 2737, 'crumbl': 2737, 'cellophan': 2737, 'vacant': 2737, 'physic': 2737, 'beet': 2737, 'clive': 2737, 'campbel': 2737, 'disembark': 2737, 'boardwalk': 2737, 'diamond': 2737, 'zombi': 2737, 'ribbon': 2737, 'solar': 2737, 'spoke': 2737, 'savanna': 2737, 'preform': 2737, '95th': 2737, 'emir': 2737, 'abl': 2737, 'fulli': 2737, 'cafe': 2737, 'handbag': 2737, 'cob': 2737, 'canva': 2737, 'imperfect': 2737, 'cove': 2737, 'barri': 2737, 'bond': 2737, 'eggplant': 2737, 'valley': 2737, 'unplug': 2737, 'astrid': 2737, 'sup': 2737, 'crab': 2737, 'storefront': 2737, 'carol': 2737, 'chat': 2737, 'skintight': 2737, 'wrench': 2737, 'caulk': 2737, 'tube': 2737, 'croissant': 2737, 'mayonnais': 2737, 'sibl': 2737, 'rescu': 2737, 'scarf': 2737, 'necklac': 2737, 'barbecu': 2737, 'add': 2737, 'floresc': 2737, 'grin': 2737, 'balconi': 2737, 'date': 2737, 'upgrad': 2737, 'lick': 2737, 'rust': 2737, 'cape': 2737, 'lasso': 2737, 'asymmetr': 2737, 'rover': 2737, 'obscur': 2737, 'sparkler': 2737, 'pomegran': 2737, 'aboard': 2737, 'month': 2737, 'factori': 2737, 'horizon': 2737, 'tropic': 2737, 'cellar': 2737, 'havana': 2737, 'cuba': 2737, 'arab': 2737, 'walnut': 2737, 'main': 2737, 'warn': 2737, 'pouch': 2737, 'groceri': 2737, 'leash': 2737, 'search': 2737, 'autumn': 2737, 'flickr': 2737, 'goate': 2737, 'astronom': 2737, 'calendar': 2737, 'europ': 2737, 'loom': 2737, 'sausag': 2737, 'highest': 2737, 'paid': 2737, 'cash': 2737, 'question': 2737, 'yak': 2737, 'surviv': 2737, 'predomin': 2737, 'bit': 2737, 'jog': 2737, 'kansa': 2737, 'plat': 2737, 'poke': 2737, 'sunroof': 2737, 'pleasant': 2737, 'downtown': 2737, 'craze': 2737, 'southwestern': 2737, 'alond': 2737, 'melon': 2737, 'gap': 2737, 'rv': 2737, 'kitti': 2737, 'stun': 2737, 'telephon': 2737, 'gentleman': 2737, 'lectur': 2737, 'longboard': 2737, 'mystic': 2737, 'peac': 2737, 'italian': 2737, 'soar': 2737, 'pantri': 2737, 'cartoonish': 2737, 'balloon': 2737, 'crusti': 2737, 'distort': 2737, 'slider': 2737, 'deliveri': 2737, 'snuggl': 2737, 'hash': 2737, 'burnt': 2737, 'wander': 2737, 'teri': 2737, 'hatcher': 2737, 'actress': 2737, 'hero': 2737, 'omelet': 2737, 'melt': 2737, 'inclin': 2737, 'panorama': 2737}\n"
     ]
    }
   ],
   "execution_count": 44
  },
  {
   "metadata": {
    "ExecuteTime": {
     "end_time": "2024-12-19T17:52:52.127194Z",
     "start_time": "2024-12-19T17:52:52.125049Z"
    }
   },
   "cell_type": "code",
   "source": [
    "#cum fac embedding in keras\n",
    "#vezi si tu\n",
    "#"
   ],
   "id": "1e2f7068a9fec296",
   "outputs": [],
   "execution_count": 45
  },
  {
   "metadata": {
    "ExecuteTime": {
     "end_time": "2024-12-19T17:52:52.130290Z",
     "start_time": "2024-12-19T17:52:52.128043Z"
    }
   },
   "cell_type": "code",
   "source": [
    "def assign_id(sentence):\n",
    "    return [mapped_ids[word] for word in sentence.split()]"
   ],
   "id": "aefbecbdb3ba7e0d",
   "outputs": [],
   "execution_count": 46
  },
  {
   "metadata": {
    "ExecuteTime": {
     "end_time": "2024-12-19T17:52:52.147989Z",
     "start_time": "2024-12-19T17:52:52.131195Z"
    }
   },
   "cell_type": "code",
   "source": [
    "train['caption_ids'] = train['processed_caption'].apply(assign_id)\n",
    "val['caption_ids'] = val['processed_caption'].apply(assign_id)"
   ],
   "id": "399c5e78fce85f27",
   "outputs": [],
   "execution_count": 47
  },
  {
   "metadata": {
    "ExecuteTime": {
     "end_time": "2024-12-19T17:52:52.152479Z",
     "start_time": "2024-12-19T17:52:52.149052Z"
    }
   },
   "cell_type": "code",
   "source": "print(train['caption_ids'][99])",
   "id": "c0b55af90cf2dc23",
   "outputs": [
    {
     "name": "stdout",
     "output_type": "stream",
     "text": [
      "[7, 316, 133, 36, 96, 317, 133]\n"
     ]
    }
   ],
   "execution_count": 48
  },
  {
   "metadata": {
    "ExecuteTime": {
     "end_time": "2024-12-19T17:52:52.160242Z",
     "start_time": "2024-12-19T17:52:52.153718Z"
    }
   },
   "cell_type": "code",
   "source": [
    "max_length = max([len(caption.split()) for caption in train['processed_caption']])\n",
    "print(max_length)\n",
    "vacabulary_size = len(mapped_ids)\n",
    "print(vacabulary_size)"
   ],
   "id": "2e3217e463491847",
   "outputs": [
    {
     "name": "stdout",
     "output_type": "stream",
     "text": [
      "31\n",
      "2929\n"
     ]
    }
   ],
   "execution_count": 49
  },
  {
   "metadata": {
    "ExecuteTime": {
     "end_time": "2024-12-19T17:52:52.192901Z",
     "start_time": "2024-12-19T17:52:52.161450Z"
    }
   },
   "cell_type": "code",
   "source": [
    "train_padded = pad_sequences(train['caption_ids'], maxlen=max_length, padding='post')\n",
    "val_padded = pad_sequences(val['caption_ids'], maxlen=max_length, padding='post')\n",
    "\n",
    "x_train = np.array(train_padded)\n",
    "x_val = np.array(val_padded)\n",
    "\n",
    "print(x_train.shape)"
   ],
   "id": "a9fe846bf2d3fb9d",
   "outputs": [
    {
     "name": "stdout",
     "output_type": "stream",
     "text": [
      "(10000, 31)\n"
     ]
    }
   ],
   "execution_count": 50
  },
  {
   "metadata": {},
   "cell_type": "markdown",
   "source": "### Building the model ?",
   "id": "4cdad66ecade7105"
  },
  {
   "metadata": {
    "ExecuteTime": {
     "end_time": "2024-12-19T17:52:52.221814Z",
     "start_time": "2024-12-19T17:52:52.193911Z"
    }
   },
   "cell_type": "code",
   "source": [
    "embedding_dim = 256\n",
    "lstm_units = 256\n",
    "\n",
    "model = Sequential()\n",
    "\n",
    "#embedding layer\n",
    "model.add(Embedding(vacabulary_size, embedding_dim, input_length=max_length))\n",
    "\n",
    "#lstm layer\n",
    "model.add(LSTM(lstm_units,activation = 'tanh' ,return_sequences=True))\n",
    "model.add(Dropout(0.2))\n",
    "\n",
    "model.add(LSTM(lstm_units,activation = 'tanh' ,return_sequences=False))\n",
    "model.add(Dropout(0.2))\n",
    "\n",
    "model.add(Dense(units=1024, activation='relu'))\n",
    "\n",
    "model.build(input_shape=(None, max_length))\n",
    "model.summary()"
   ],
   "id": "fddb590c7eb037cc",
   "outputs": [
    {
     "name": "stderr",
     "output_type": "stream",
     "text": [
      "/home/radu/miniforge3/envs/ML/lib/python3.11/site-packages/keras/src/layers/core/embedding.py:90: UserWarning: Argument `input_length` is deprecated. Just remove it.\n",
      "  warnings.warn(\n"
     ]
    },
    {
     "data": {
      "text/plain": [
       "\u001B[1mModel: \"sequential_5\"\u001B[0m\n"
      ],
      "text/html": [
       "<pre style=\"white-space:pre;overflow-x:auto;line-height:normal;font-family:Menlo,'DejaVu Sans Mono',consolas,'Courier New',monospace\"><span style=\"font-weight: bold\">Model: \"sequential_5\"</span>\n",
       "</pre>\n"
      ]
     },
     "metadata": {},
     "output_type": "display_data"
    },
    {
     "data": {
      "text/plain": [
       "┏━━━━━━━━━━━━━━━━━━━━━━━━━━━━━━━━━┳━━━━━━━━━━━━━━━━━━━━━━━━┳━━━━━━━━━━━━━━━┓\n",
       "┃\u001B[1m \u001B[0m\u001B[1mLayer (type)                   \u001B[0m\u001B[1m \u001B[0m┃\u001B[1m \u001B[0m\u001B[1mOutput Shape          \u001B[0m\u001B[1m \u001B[0m┃\u001B[1m \u001B[0m\u001B[1m      Param #\u001B[0m\u001B[1m \u001B[0m┃\n",
       "┡━━━━━━━━━━━━━━━━━━━━━━━━━━━━━━━━━╇━━━━━━━━━━━━━━━━━━━━━━━━╇━━━━━━━━━━━━━━━┩\n",
       "│ embedding_1 (\u001B[38;5;33mEmbedding\u001B[0m)         │ (\u001B[38;5;45mNone\u001B[0m, \u001B[38;5;34m31\u001B[0m, \u001B[38;5;34m256\u001B[0m)        │       \u001B[38;5;34m749,824\u001B[0m │\n",
       "├─────────────────────────────────┼────────────────────────┼───────────────┤\n",
       "│ lstm_2 (\u001B[38;5;33mLSTM\u001B[0m)                   │ (\u001B[38;5;45mNone\u001B[0m, \u001B[38;5;34m31\u001B[0m, \u001B[38;5;34m256\u001B[0m)        │       \u001B[38;5;34m525,312\u001B[0m │\n",
       "├─────────────────────────────────┼────────────────────────┼───────────────┤\n",
       "│ dropout_6 (\u001B[38;5;33mDropout\u001B[0m)             │ (\u001B[38;5;45mNone\u001B[0m, \u001B[38;5;34m31\u001B[0m, \u001B[38;5;34m256\u001B[0m)        │             \u001B[38;5;34m0\u001B[0m │\n",
       "├─────────────────────────────────┼────────────────────────┼───────────────┤\n",
       "│ lstm_3 (\u001B[38;5;33mLSTM\u001B[0m)                   │ (\u001B[38;5;45mNone\u001B[0m, \u001B[38;5;34m256\u001B[0m)            │       \u001B[38;5;34m525,312\u001B[0m │\n",
       "├─────────────────────────────────┼────────────────────────┼───────────────┤\n",
       "│ dropout_7 (\u001B[38;5;33mDropout\u001B[0m)             │ (\u001B[38;5;45mNone\u001B[0m, \u001B[38;5;34m256\u001B[0m)            │             \u001B[38;5;34m0\u001B[0m │\n",
       "├─────────────────────────────────┼────────────────────────┼───────────────┤\n",
       "│ dense_3 (\u001B[38;5;33mDense\u001B[0m)                 │ (\u001B[38;5;45mNone\u001B[0m, \u001B[38;5;34m1024\u001B[0m)           │       \u001B[38;5;34m263,168\u001B[0m │\n",
       "└─────────────────────────────────┴────────────────────────┴───────────────┘\n"
      ],
      "text/html": [
       "<pre style=\"white-space:pre;overflow-x:auto;line-height:normal;font-family:Menlo,'DejaVu Sans Mono',consolas,'Courier New',monospace\">┏━━━━━━━━━━━━━━━━━━━━━━━━━━━━━━━━━┳━━━━━━━━━━━━━━━━━━━━━━━━┳━━━━━━━━━━━━━━━┓\n",
       "┃<span style=\"font-weight: bold\"> Layer (type)                    </span>┃<span style=\"font-weight: bold\"> Output Shape           </span>┃<span style=\"font-weight: bold\">       Param # </span>┃\n",
       "┡━━━━━━━━━━━━━━━━━━━━━━━━━━━━━━━━━╇━━━━━━━━━━━━━━━━━━━━━━━━╇━━━━━━━━━━━━━━━┩\n",
       "│ embedding_1 (<span style=\"color: #0087ff; text-decoration-color: #0087ff\">Embedding</span>)         │ (<span style=\"color: #00d7ff; text-decoration-color: #00d7ff\">None</span>, <span style=\"color: #00af00; text-decoration-color: #00af00\">31</span>, <span style=\"color: #00af00; text-decoration-color: #00af00\">256</span>)        │       <span style=\"color: #00af00; text-decoration-color: #00af00\">749,824</span> │\n",
       "├─────────────────────────────────┼────────────────────────┼───────────────┤\n",
       "│ lstm_2 (<span style=\"color: #0087ff; text-decoration-color: #0087ff\">LSTM</span>)                   │ (<span style=\"color: #00d7ff; text-decoration-color: #00d7ff\">None</span>, <span style=\"color: #00af00; text-decoration-color: #00af00\">31</span>, <span style=\"color: #00af00; text-decoration-color: #00af00\">256</span>)        │       <span style=\"color: #00af00; text-decoration-color: #00af00\">525,312</span> │\n",
       "├─────────────────────────────────┼────────────────────────┼───────────────┤\n",
       "│ dropout_6 (<span style=\"color: #0087ff; text-decoration-color: #0087ff\">Dropout</span>)             │ (<span style=\"color: #00d7ff; text-decoration-color: #00d7ff\">None</span>, <span style=\"color: #00af00; text-decoration-color: #00af00\">31</span>, <span style=\"color: #00af00; text-decoration-color: #00af00\">256</span>)        │             <span style=\"color: #00af00; text-decoration-color: #00af00\">0</span> │\n",
       "├─────────────────────────────────┼────────────────────────┼───────────────┤\n",
       "│ lstm_3 (<span style=\"color: #0087ff; text-decoration-color: #0087ff\">LSTM</span>)                   │ (<span style=\"color: #00d7ff; text-decoration-color: #00d7ff\">None</span>, <span style=\"color: #00af00; text-decoration-color: #00af00\">256</span>)            │       <span style=\"color: #00af00; text-decoration-color: #00af00\">525,312</span> │\n",
       "├─────────────────────────────────┼────────────────────────┼───────────────┤\n",
       "│ dropout_7 (<span style=\"color: #0087ff; text-decoration-color: #0087ff\">Dropout</span>)             │ (<span style=\"color: #00d7ff; text-decoration-color: #00d7ff\">None</span>, <span style=\"color: #00af00; text-decoration-color: #00af00\">256</span>)            │             <span style=\"color: #00af00; text-decoration-color: #00af00\">0</span> │\n",
       "├─────────────────────────────────┼────────────────────────┼───────────────┤\n",
       "│ dense_3 (<span style=\"color: #0087ff; text-decoration-color: #0087ff\">Dense</span>)                 │ (<span style=\"color: #00d7ff; text-decoration-color: #00d7ff\">None</span>, <span style=\"color: #00af00; text-decoration-color: #00af00\">1024</span>)           │       <span style=\"color: #00af00; text-decoration-color: #00af00\">263,168</span> │\n",
       "└─────────────────────────────────┴────────────────────────┴───────────────┘\n",
       "</pre>\n"
      ]
     },
     "metadata": {},
     "output_type": "display_data"
    },
    {
     "data": {
      "text/plain": [
       "\u001B[1m Total params: \u001B[0m\u001B[38;5;34m2,063,616\u001B[0m (7.87 MB)\n"
      ],
      "text/html": [
       "<pre style=\"white-space:pre;overflow-x:auto;line-height:normal;font-family:Menlo,'DejaVu Sans Mono',consolas,'Courier New',monospace\"><span style=\"font-weight: bold\"> Total params: </span><span style=\"color: #00af00; text-decoration-color: #00af00\">2,063,616</span> (7.87 MB)\n",
       "</pre>\n"
      ]
     },
     "metadata": {},
     "output_type": "display_data"
    },
    {
     "data": {
      "text/plain": [
       "\u001B[1m Trainable params: \u001B[0m\u001B[38;5;34m2,063,616\u001B[0m (7.87 MB)\n"
      ],
      "text/html": [
       "<pre style=\"white-space:pre;overflow-x:auto;line-height:normal;font-family:Menlo,'DejaVu Sans Mono',consolas,'Courier New',monospace\"><span style=\"font-weight: bold\"> Trainable params: </span><span style=\"color: #00af00; text-decoration-color: #00af00\">2,063,616</span> (7.87 MB)\n",
       "</pre>\n"
      ]
     },
     "metadata": {},
     "output_type": "display_data"
    },
    {
     "data": {
      "text/plain": [
       "\u001B[1m Non-trainable params: \u001B[0m\u001B[38;5;34m0\u001B[0m (0.00 B)\n"
      ],
      "text/html": [
       "<pre style=\"white-space:pre;overflow-x:auto;line-height:normal;font-family:Menlo,'DejaVu Sans Mono',consolas,'Courier New',monospace\"><span style=\"font-weight: bold\"> Non-trainable params: </span><span style=\"color: #00af00; text-decoration-color: #00af00\">0</span> (0.00 B)\n",
       "</pre>\n"
      ]
     },
     "metadata": {},
     "output_type": "display_data"
    }
   ],
   "execution_count": 51
  },
  {
   "metadata": {
    "ExecuteTime": {
     "end_time": "2024-12-19T17:53:02.505495Z",
     "start_time": "2024-12-19T17:52:52.222741Z"
    }
   },
   "cell_type": "code",
   "source": [
    "# Forward pass through the model to get extracted features\n",
    "features_lstm = model.predict(x_train)\n",
    "\n",
    "print(\"Extracted Features Shape:\", features_lstm.shape)  # Should be (10000, 512)"
   ],
   "id": "6a8beb9b86d82f45",
   "outputs": [
    {
     "name": "stdout",
     "output_type": "stream",
     "text": [
      "\u001B[1m313/313\u001B[0m \u001B[32m━━━━━━━━━━━━━━━━━━━━\u001B[0m\u001B[37m\u001B[0m \u001B[1m10s\u001B[0m 33ms/step\n",
      "Extracted Features Shape: (10000, 1024)\n"
     ]
    }
   ],
   "execution_count": 52
  },
  {
   "metadata": {
    "ExecuteTime": {
     "end_time": "2024-12-19T17:53:05.674098Z",
     "start_time": "2024-12-19T17:53:02.506545Z"
    }
   },
   "cell_type": "code",
   "source": [
    "# Save extracted features to a .npy file\n",
    "np.save('train_lstm_features.npy', features_lstm)\n",
    "\n",
    "# Repeat for validation set\n",
    "val_features = model.predict(x_val)\n",
    "np.save('val_lstm_features.npy', val_features)\n",
    "\n",
    "print(\"Validation Features Shape:\", val_features.shape)"
   ],
   "id": "25367dcbcb3e3822",
   "outputs": [
    {
     "name": "stdout",
     "output_type": "stream",
     "text": [
      "\u001B[1m94/94\u001B[0m \u001B[32m━━━━━━━━━━━━━━━━━━━━\u001B[0m\u001B[37m\u001B[0m \u001B[1m3s\u001B[0m 33ms/step\n",
      "Validation Features Shape: (3000, 1024)\n"
     ]
    }
   ],
   "execution_count": 53
  },
  {
   "metadata": {
    "ExecuteTime": {
     "end_time": "2024-12-19T17:53:05.678318Z",
     "start_time": "2024-12-19T17:53:05.675015Z"
    }
   },
   "cell_type": "code",
   "source": [
    "train_ids = train['id'].values\n",
    "train_labels = train['label'].values\n",
    "\n",
    "val_ids = val['id'].values\n",
    "val_labels = val['label'].values\n",
    "\n"
   ],
   "id": "464e5e163d9cc552",
   "outputs": [],
   "execution_count": 54
  },
  {
   "metadata": {
    "ExecuteTime": {
     "end_time": "2024-12-19T17:53:05.724080Z",
     "start_time": "2024-12-19T17:53:05.680715Z"
    }
   },
   "cell_type": "code",
   "source": [
    "image_features = np.load('extracted_features.npy')\n",
    "lstm_features = np.load('train_lstm_features.npy')\n",
    "\n",
    "print(\"Image Features Shape:\", image_features.shape)\n",
    "print(\"LSTM Features Shape:\", lstm_features.shape)"
   ],
   "id": "474549c4ccc38a43",
   "outputs": [
    {
     "name": "stdout",
     "output_type": "stream",
     "text": [
      "Image Features Shape: (9463, 1024)\n",
      "LSTM Features Shape: (10000, 1024)\n"
     ]
    }
   ],
   "execution_count": 55
  },
  {
   "metadata": {
    "ExecuteTime": {
     "end_time": "2024-12-19T17:53:05.751467Z",
     "start_time": "2024-12-19T17:53:05.725070Z"
    }
   },
   "cell_type": "code",
   "source": [
    "combined_features = np.concatenate((image_features, lstm_features), axis=1)\n",
    "print(\"Combined Features Shape:\", combined_features.shape)"
   ],
   "id": "c3fa1bb9c0244c32",
   "outputs": [
    {
     "ename": "ValueError",
     "evalue": "all the input array dimensions except for the concatenation axis must match exactly, but along dimension 0, the array at index 0 has size 9463 and the array at index 1 has size 10000",
     "output_type": "error",
     "traceback": [
      "\u001B[0;31m---------------------------------------------------------------------------\u001B[0m",
      "\u001B[0;31mValueError\u001B[0m                                Traceback (most recent call last)",
      "Cell \u001B[0;32mIn[56], line 1\u001B[0m\n\u001B[0;32m----> 1\u001B[0m combined_features \u001B[38;5;241m=\u001B[39m \u001B[43mnp\u001B[49m\u001B[38;5;241;43m.\u001B[39;49m\u001B[43mconcatenate\u001B[49m\u001B[43m(\u001B[49m\u001B[43m(\u001B[49m\u001B[43mimage_features\u001B[49m\u001B[43m,\u001B[49m\u001B[43m \u001B[49m\u001B[43mlstm_features\u001B[49m\u001B[43m)\u001B[49m\u001B[43m,\u001B[49m\u001B[43m \u001B[49m\u001B[43maxis\u001B[49m\u001B[38;5;241;43m=\u001B[39;49m\u001B[38;5;241;43m1\u001B[39;49m\u001B[43m)\u001B[49m\n\u001B[1;32m      2\u001B[0m \u001B[38;5;28mprint\u001B[39m(\u001B[38;5;124m\"\u001B[39m\u001B[38;5;124mCombined Features Shape:\u001B[39m\u001B[38;5;124m\"\u001B[39m, combined_features\u001B[38;5;241m.\u001B[39mshape)\n",
      "\u001B[0;31mValueError\u001B[0m: all the input array dimensions except for the concatenation axis must match exactly, but along dimension 0, the array at index 0 has size 9463 and the array at index 1 has size 10000"
     ]
    }
   ],
   "execution_count": 56
  },
  {
   "metadata": {
    "ExecuteTime": {
     "end_time": "2024-12-19T17:53:05.752397Z",
     "start_time": "2024-12-19T17:53:05.752322Z"
    }
   },
   "cell_type": "code",
   "source": [
    "# Combined features and labels\n",
    "x_train = combined_features\n",
    "y_train = train_labels  # Labels are 0 or 1\n",
    "\n",
    "print(\"Training Features Shape:\", x_train.shape)\n",
    "print(\"Training Labels Shape:\", y_train.shape)"
   ],
   "id": "9f45804157d96be4",
   "outputs": [],
   "execution_count": null
  },
  {
   "metadata": {},
   "cell_type": "code",
   "source": [
    "from keras.models import Sequential\n",
    "from keras.layers import Dense, Dropout\n",
    "\n",
    "# Model\n",
    "model = Sequential()\n",
    "model.add(Dense(512, activation='relu', input_shape=(x_train.shape[1],)))  # Input: concatenated features\n",
    "model.add(Dropout(0.5))\n",
    "model.add(Dense(256, activation='relu'))\n",
    "model.add(Dropout(0.5))\n",
    "model.add(Dense(1, activation='sigmoid'))  # Binary classification (0/1)\n",
    "\n",
    "# Compile\n",
    "model.compile(optimizer='adam', loss='binary_crossentropy', metrics=['accuracy'])\n",
    "\n",
    "# Train\n",
    "model.fit(x_train, y_train, epochs=10, batch_size=32, validation_split=0.2)\n"
   ],
   "id": "bacdd2ba544ead2e",
   "outputs": [],
   "execution_count": null
  }
 ],
 "metadata": {
  "kernelspec": {
   "display_name": "Python 3",
   "language": "python",
   "name": "python3"
  },
  "language_info": {
   "codemirror_mode": {
    "name": "ipython",
    "version": 2
   },
   "file_extension": ".py",
   "mimetype": "text/x-python",
   "name": "python",
   "nbconvert_exporter": "python",
   "pygments_lexer": "ipython2",
   "version": "2.7.6"
  }
 },
 "nbformat": 4,
 "nbformat_minor": 5
}
