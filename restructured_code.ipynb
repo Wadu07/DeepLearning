{
 "cells": [
  {
   "cell_type": "code",
   "id": "initial_id",
   "metadata": {
    "collapsed": true,
    "ExecuteTime": {
     "end_time": "2024-12-20T01:15:44.810984Z",
     "start_time": "2024-12-20T01:15:44.804158Z"
    }
   },
   "source": "%env KERAS_BACKEND=torch",
   "outputs": [
    {
     "name": "stdout",
     "output_type": "stream",
     "text": [
      "env: KERAS_BACKEND=torch\n"
     ]
    }
   ],
   "execution_count": 1
  },
  {
   "metadata": {
    "ExecuteTime": {
     "end_time": "2024-12-20T01:15:49.515528Z",
     "start_time": "2024-12-20T01:15:45.401042Z"
    }
   },
   "cell_type": "code",
   "source": [
    "import os\n",
    "import numpy as np\n",
    "import pandas as pd\n",
    "from tqdm import tqdm\n",
    "from PIL import Image\n",
    "from keras.models import Sequential, Model\n",
    "from keras.layers import Dense, Conv2D, Flatten, MaxPooling2D, Dropout, Embedding, LSTM, BatchNormalization\n",
    "from keras.preprocessing.sequence import pad_sequences\n",
    "from keras.utils import to_categorical\n",
    "from keras.optimizers import Adam\n",
    "from sklearn.preprocessing import StandardScaler\n",
    "from keras.regularizers import l2\n",
    "\n",
    "\n",
    "\n",
    "import nltk\n",
    "from nltk.corpus import stopwords\n",
    "from nltk.tokenize import word_tokenize\n",
    "from nltk.stem import SnowballStemmer\n",
    "import re"
   ],
   "id": "d8554707ffb791cf",
   "outputs": [],
   "execution_count": 2
  },
  {
   "metadata": {
    "ExecuteTime": {
     "end_time": "2024-12-20T01:15:49.657443Z",
     "start_time": "2024-12-20T01:15:49.516846Z"
    }
   },
   "cell_type": "code",
   "source": [
    "nltk.download('stopwords')\n",
    "snow_stemmer = SnowballStemmer(language='english')"
   ],
   "id": "abd13cdc9e45aba3",
   "outputs": [
    {
     "name": "stderr",
     "output_type": "stream",
     "text": [
      "[nltk_data] Downloading package stopwords to /home/radu/nltk_data...\n",
      "[nltk_data]   Package stopwords is already up-to-date!\n"
     ]
    }
   ],
   "execution_count": 3
  },
  {
   "metadata": {
    "ExecuteTime": {
     "end_time": "2024-12-20T01:15:49.661198Z",
     "start_time": "2024-12-20T01:15:49.658681Z"
    }
   },
   "cell_type": "code",
   "source": [
    "# Global variables\n",
    "image_size = (100, 100)\n",
    "embedding_dim = 256\n",
    "lstm_units = 256\n",
    "batch_size = 32\n",
    "num_classes = 2\n"
   ],
   "id": "b84f513b89570546",
   "outputs": [],
   "execution_count": 4
  },
  {
   "metadata": {
    "ExecuteTime": {
     "end_time": "2024-12-20T01:15:49.675044Z",
     "start_time": "2024-12-20T01:15:49.663340Z"
    }
   },
   "cell_type": "code",
   "source": [
    "# Modified: Added data augmentation function\n",
    "def augment_images(image_data):\n",
    "    \"\"\"Apply data augmentation to images.\"\"\"\n",
    "    augmented_images = []\n",
    "    for img in image_data:\n",
    "        # Add random flip\n",
    "        if np.random.rand() > 0.5:\n",
    "            img = np.fliplr(img)\n",
    "        # Add random rotation\n",
    "        angle = np.random.randint(-15, 15)\n",
    "        img = Image.fromarray((img * 255).astype(np.uint8)).rotate(angle)\n",
    "        augmented_images.append(np.array(img) / 255.0)  # Normalize again\n",
    "    return np.array(augmented_images)"
   ],
   "id": "df498b7e2d44751",
   "outputs": [],
   "execution_count": 5
  },
  {
   "metadata": {},
   "cell_type": "markdown",
   "source": "### Loading images",
   "id": "578de94aae14c777"
  },
  {
   "metadata": {
    "ExecuteTime": {
     "end_time": "2024-12-20T01:15:49.681710Z",
     "start_time": "2024-12-20T01:15:49.676363Z"
    }
   },
   "cell_type": "code",
   "source": [
    "def load_images(folder_path):\n",
    "    \"\"\"Load and preprocess images from a folder.\"\"\"\n",
    "    image_data = []\n",
    "    for folder in folder_path:\n",
    "        files = [f for f in os.listdir(folder) if f.endswith('.jpg')]\n",
    "        for file_name in tqdm(files, desc=f\"Loading images from folder {folder}\"):\n",
    "            file_path = os.path.join(folder, file_name)\n",
    "            img = Image.open(file_path)\n",
    "            if img.mode != \"RGB\":\n",
    "                img = img.convert(\"RGB\")\n",
    "            img = img.resize(image_size)\n",
    "            img_arr = np.array(img) / 255.0  # Normalize\n",
    "            image_data.append(img_arr)\n",
    "    #augment_images(image_data)\n",
    "    return np.array(image_data)"
   ],
   "id": "15a7052f39d8725",
   "outputs": [],
   "execution_count": 6
  },
  {
   "metadata": {},
   "cell_type": "markdown",
   "source": "### Preprocess text",
   "id": "124990ae6fe7ffe9"
  },
  {
   "metadata": {
    "ExecuteTime": {
     "end_time": "2024-12-20T01:15:49.686832Z",
     "start_time": "2024-12-20T01:15:49.682887Z"
    }
   },
   "cell_type": "code",
   "source": [
    "def preprocess_captions(captions):\n",
    "    \"\"\"Preprocess captions by removing stopwords, punctuation, and stemming.\"\"\"\n",
    "    stop_words = set(stopwords.words('english'))\n",
    "    processed_captions = []\n",
    "    for sentence in captions:\n",
    "        sentence = re.sub(r'[^\\w\\s]', '', sentence)  # Remove punctuation\n",
    "        tokens = word_tokenize(sentence)\n",
    "        tokens = [snow_stemmer.stem(word.lower()) for word in tokens if word.lower() not in stop_words]\n",
    "        processed_captions.append(' '.join(tokens))\n",
    "    return processed_captions"
   ],
   "id": "595c7b3f23bf0efa",
   "outputs": [],
   "execution_count": 7
  },
  {
   "metadata": {
    "ExecuteTime": {
     "end_time": "2024-12-20T01:15:49.691124Z",
     "start_time": "2024-12-20T01:15:49.687854Z"
    }
   },
   "cell_type": "code",
   "source": [
    "\n",
    "def map_words_to_ids(captions):\n",
    "    \"\"\"Map unique words in captions to unique IDs.\"\"\"\n",
    "    mapped_ids = {}\n",
    "    k = 0\n",
    "    for sentence in captions:\n",
    "        for word in sentence.split():\n",
    "            if word not in mapped_ids:\n",
    "                mapped_ids[word] = k\n",
    "                k += 1\n",
    "    return mapped_ids"
   ],
   "id": "93eaba347a7ce580",
   "outputs": [],
   "execution_count": 8
  },
  {
   "metadata": {
    "ExecuteTime": {
     "end_time": "2024-12-20T01:15:49.695381Z",
     "start_time": "2024-12-20T01:15:49.692018Z"
    }
   },
   "cell_type": "code",
   "source": [
    "def encode_captions(captions, word_map):\n",
    "    \"\"\"Encode captions into sequences of IDs, dynamically adding new words.\"\"\"\n",
    "    for caption in captions:\n",
    "        for word in caption.split():\n",
    "            if word not in word_map:\n",
    "                word_map[word] = len(word_map)  # Add new word to the map\n",
    "    return [[word_map[word] for word in caption.split()] for caption in captions]\n"
   ],
   "id": "a1a0a6615abce506",
   "outputs": [],
   "execution_count": 9
  },
  {
   "metadata": {
    "ExecuteTime": {
     "end_time": "2024-12-20T01:15:49.699362Z",
     "start_time": "2024-12-20T01:15:49.696544Z"
    }
   },
   "cell_type": "code",
   "source": [
    "def align_image_features(image_features, df):\n",
    "    \"\"\"Align image features based on image IDs in the dataset.\"\"\"\n",
    "    unique_image_ids = df['image_id'].unique()\n",
    "    image_id_to_index = {img_id: idx for idx, img_id in enumerate(unique_image_ids)}\n",
    "    aligned_features = [image_features[image_id_to_index[img_id]] for img_id in df['image_id']]\n",
    "    return np.array(aligned_features)"
   ],
   "id": "d5e258566a67343d",
   "outputs": [],
   "execution_count": 10
  },
  {
   "metadata": {
    "ExecuteTime": {
     "end_time": "2024-12-20T01:15:49.706965Z",
     "start_time": "2024-12-20T01:15:49.702021Z"
    }
   },
   "cell_type": "code",
   "source": [
    "\n",
    "def build_cnn_model():\n",
    "    \"\"\"Build an enhanced CNN model for image feature extraction.\"\"\"\n",
    "    model = Sequential()\n",
    "    model.add(Conv2D(32, kernel_size=3, padding='same', activation='relu', input_shape=(100, 100, 3)))\n",
    "    model.add(BatchNormalization())  # Added Batch Normalization\n",
    "    model.add(Conv2D(64, kernel_size=3, activation='relu'))\n",
    "    model.add(BatchNormalization())\n",
    "    model.add(MaxPooling2D(pool_size=2))\n",
    "    model.add(Dropout(0.2))\n",
    "    model.add(Conv2D(128, kernel_size=3, padding='same', activation='relu'))\n",
    "    model.add(BatchNormalization())\n",
    "    model.add(Conv2D(128, kernel_size=3, activation='relu'))\n",
    "    model.add(BatchNormalization())\n",
    "    model.add(MaxPooling2D(pool_size=2))\n",
    "    model.add(Dropout(0.2))\n",
    "    model.add(Flatten())\n",
    "    model.add(Dense(1024, activation='relu'))\n",
    "    return model"
   ],
   "id": "a94fb0d2d56a22ce",
   "outputs": [],
   "execution_count": 11
  },
  {
   "metadata": {
    "ExecuteTime": {
     "end_time": "2024-12-20T01:15:49.710130Z",
     "start_time": "2024-12-20T01:15:49.707864Z"
    }
   },
   "cell_type": "code",
   "source": [
    "def extract_image_features(image_data, model):\n",
    "    \"\"\"Extract features from images using the CNN model.\"\"\"\n",
    "    #feature_extractor = Sequential(model.layers[:-1])\n",
    "    return model.predict(image_data)"
   ],
   "id": "2fdde8f1918bbc8c",
   "outputs": [],
   "execution_count": 12
  },
  {
   "metadata": {
    "ExecuteTime": {
     "end_time": "2024-12-20T01:15:49.714631Z",
     "start_time": "2024-12-20T01:15:49.711026Z"
    }
   },
   "cell_type": "code",
   "source": [
    "def build_lstm_model(vocab_size, max_length):\n",
    "    \"\"\"Build an enhanced LSTM model for text feature extraction.\"\"\"\n",
    "    model = Sequential()\n",
    "    model.add(Embedding(vocab_size, embedding_dim, input_length=max_length))\n",
    "    model.add(Dropout(0.2))  # Prevent co-adaptation of word embeddings\n",
    "    model.add(LSTM(lstm_units, activation='tanh', return_sequences=True))\n",
    "    model.add(BatchNormalization())\n",
    "    model.add(Dropout(0.2))\n",
    "    model.add(LSTM(lstm_units, activation='tanh', return_sequences=False))\n",
    "    model.add(BatchNormalization())\n",
    "    model.add(Dropout(0.2))\n",
    "    model.add(Dense(1024, activation='relu'))\n",
    "    return model"
   ],
   "id": "2f8c025c48b4fb6d",
   "outputs": [],
   "execution_count": 13
  },
  {
   "metadata": {
    "ExecuteTime": {
     "end_time": "2024-12-20T01:24:29.435003Z",
     "start_time": "2024-12-20T01:24:29.430139Z"
    }
   },
   "cell_type": "code",
   "source": [
    "def train_combined_model(x_train, y_train, x_val, y_val):\n",
    "    \"\"\"Train a dense model on combined features.\"\"\"\n",
    "    model = Sequential()\n",
    "    model.add(Dense(2048, activation='relu', input_shape=(x_train.shape[1],)))\n",
    "    model.add(Dropout(0.2))\n",
    "    model.add(Dense(1024, activation='relu'))\n",
    "    model.add(Dropout(0.2))\n",
    "    model.add(Dense(512, activation='relu'))\n",
    "    model.add(Dropout(0.2))\n",
    "    model.add(Dense(1, activation='sigmoid'))\n",
    "    model.compile(optimizer=Adam(learning_rate = 1e-3), loss='binary_crossentropy', metrics=['accuracy'])\n",
    "    model.fit(x_train, y_train, validation_data=(x_val, y_val), epochs=15, batch_size=64)\n",
    "    return model"
   ],
   "id": "39328afe7b30d8e4",
   "outputs": [],
   "execution_count": 37
  },
  {
   "metadata": {
    "ExecuteTime": {
     "end_time": "2024-12-20T01:17:27.194018Z",
     "start_time": "2024-12-20T01:17:22.478683Z"
    }
   },
   "cell_type": "code",
   "source": [
    "# Load datasets\n",
    "train = pd.read_csv('train.csv')\n",
    "val = pd.read_csv('val.csv')\n",
    "test = pd.read_csv('test.csv')\n",
    "\n",
    "# Load and preprocess images\n",
    "train_image_data = load_images(['./train_images'])\n",
    "val_image_data = load_images(['./val_images'])"
   ],
   "id": "9933de2f50e1f8c4",
   "outputs": [
    {
     "name": "stderr",
     "output_type": "stream",
     "text": [
      "Loading images from folder ./train_images: 100%|██████████| 9463/9463 [00:02<00:00, 3219.54it/s]\n",
      "Loading images from folder ./val_images: 100%|██████████| 2957/2957 [00:00<00:00, 3212.02it/s]\n"
     ]
    }
   ],
   "execution_count": 25
  },
  {
   "metadata": {
    "ExecuteTime": {
     "end_time": "2024-12-20T01:24:42.985917Z",
     "start_time": "2024-12-20T01:24:32.932443Z"
    }
   },
   "cell_type": "code",
   "source": [
    "# Build and extract image features\n",
    "cnn_model = build_cnn_model()\n",
    "train_image_features = extract_image_features(train_image_data, cnn_model)\n",
    "val_image_features = extract_image_features(val_image_data, cnn_model)\n",
    "np.save('train_image_features.npy', train_image_features)\n",
    "np.save('val_image_features.npy', val_image_features)"
   ],
   "id": "877e9546baaae083",
   "outputs": [
    {
     "name": "stderr",
     "output_type": "stream",
     "text": [
      "/home/radu/miniforge3/envs/ML/lib/python3.11/site-packages/keras/src/layers/convolutional/base_conv.py:107: UserWarning: Do not pass an `input_shape`/`input_dim` argument to a layer. When using Sequential models, prefer using an `Input(shape)` object as the first layer in the model instead.\n",
      "  super().__init__(activity_regularizer=activity_regularizer, **kwargs)\n"
     ]
    },
    {
     "name": "stdout",
     "output_type": "stream",
     "text": [
      "\u001B[1m296/296\u001B[0m \u001B[32m━━━━━━━━━━━━━━━━━━━━\u001B[0m\u001B[37m\u001B[0m \u001B[1m8s\u001B[0m 25ms/step\n",
      "\u001B[1m93/93\u001B[0m \u001B[32m━━━━━━━━━━━━━━━━━━━━\u001B[0m\u001B[37m\u001B[0m \u001B[1m2s\u001B[0m 25ms/step\n"
     ]
    }
   ],
   "execution_count": 38
  },
  {
   "metadata": {
    "ExecuteTime": {
     "end_time": "2024-12-20T01:24:44.854033Z",
     "start_time": "2024-12-20T01:24:42.986874Z"
    }
   },
   "cell_type": "code",
   "source": [
    "# Preprocess captions\n",
    "train['processed_caption'] = preprocess_captions(train['caption'])\n",
    "val['processed_caption'] = preprocess_captions(val['caption'])\n",
    "test['processed_caption'] = preprocess_captions(test['caption'])\n",
    "\n",
    "# Combine all captions\n",
    "all_captions = list(train['processed_caption']) + list(val['processed_caption']) + list(test['processed_caption'])\n",
    "# Map words to IDs\n",
    "mapped_ids = map_words_to_ids(all_captions)\n",
    "\n",
    "# Encode captions\n",
    "train_caption_ids = encode_captions(train['processed_caption'], mapped_ids)\n",
    "val_caption_ids = encode_captions(val['processed_caption'], mapped_ids)\n",
    "test_caption_ids = encode_captions(test['processed_caption'], mapped_ids)\n",
    "\n",
    "# Pad sequences\n",
    "max_length = max([len(seq) for seq in train_caption_ids])\n",
    "train_padded = pad_sequences(train_caption_ids, maxlen=max_length, padding='post')\n",
    "val_padded = pad_sequences(val_caption_ids, maxlen=max_length, padding='post')\n"
   ],
   "id": "2476e156e7ad13a5",
   "outputs": [],
   "execution_count": 39
  },
  {
   "metadata": {
    "ExecuteTime": {
     "end_time": "2024-12-20T01:24:58.338490Z",
     "start_time": "2024-12-20T01:24:44.855127Z"
    }
   },
   "cell_type": "code",
   "source": [
    "# Build and extract text features\n",
    "vocab_size = len(mapped_ids)\n",
    "lstm_model = build_lstm_model(vocab_size, max_length)\n",
    "train_lstm_features = lstm_model.predict(train_padded)\n",
    "val_lstm_features = lstm_model.predict(val_padded)\n",
    "np.save('train_lstm_features.npy', train_lstm_features)\n",
    "np.save('val_lstm_features.npy', val_lstm_features)"
   ],
   "id": "994f34f4b0f8d83",
   "outputs": [
    {
     "name": "stdout",
     "output_type": "stream",
     "text": [
      "\u001B[1m  5/313\u001B[0m \u001B[37m━━━━━━━━━━━━━━━━━━━━\u001B[0m \u001B[1m10s\u001B[0m 34ms/step"
     ]
    },
    {
     "name": "stderr",
     "output_type": "stream",
     "text": [
      "/home/radu/miniforge3/envs/ML/lib/python3.11/site-packages/keras/src/layers/core/embedding.py:90: UserWarning: Argument `input_length` is deprecated. Just remove it.\n",
      "  warnings.warn(\n"
     ]
    },
    {
     "name": "stdout",
     "output_type": "stream",
     "text": [
      "\u001B[1m313/313\u001B[0m \u001B[32m━━━━━━━━━━━━━━━━━━━━\u001B[0m\u001B[37m\u001B[0m \u001B[1m10s\u001B[0m 32ms/step\n",
      "\u001B[1m94/94\u001B[0m \u001B[32m━━━━━━━━━━━━━━━━━━━━\u001B[0m\u001B[37m\u001B[0m \u001B[1m3s\u001B[0m 34ms/step\n"
     ]
    }
   ],
   "execution_count": 40
  },
  {
   "metadata": {
    "ExecuteTime": {
     "end_time": "2024-12-20T01:24:58.361801Z",
     "start_time": "2024-12-20T01:24:58.339536Z"
    }
   },
   "cell_type": "code",
   "source": [
    "# Align image features to captions\n",
    "train_aligned_image_features = align_image_features(train_image_features, train)\n",
    "val_aligned_image_features = align_image_features(val_image_features, val)"
   ],
   "id": "2b044d036c21d4a1",
   "outputs": [],
   "execution_count": 41
  },
  {
   "metadata": {
    "ExecuteTime": {
     "end_time": "2024-12-20T01:24:58.565564Z",
     "start_time": "2024-12-20T01:24:58.362853Z"
    }
   },
   "cell_type": "code",
   "source": [
    "# Combine features\n",
    "train_combined_features = np.concatenate((train_aligned_image_features, train_lstm_features), axis=1)\n",
    "val_combined_features = np.concatenate((val_aligned_image_features, val_lstm_features), axis=1)\n",
    "\n",
    "scaler = StandardScaler()\n",
    "train_combined_features = scaler.fit_transform(train_combined_features)\n",
    "val_combined_features = scaler.transform(val_combined_features)\n",
    "\n",
    "# One-hot encode labels\n",
    "train_labels = to_categorical(train['label'].values, num_classes=num_classes)\n",
    "val_labels = to_categorical(val['label'].values, num_classes=num_classes)\n",
    "\n",
    "train_labels_binary = np.argmax(train_labels, axis=1)  # Convert one-hot to binary labels\n",
    "val_labels_binary = np.argmax(val_labels, axis=1)\n"
   ],
   "id": "29a51f8ee550cee2",
   "outputs": [],
   "execution_count": 42
  },
  {
   "metadata": {
    "ExecuteTime": {
     "end_time": "2024-12-20T01:25:19.986042Z",
     "start_time": "2024-12-20T01:24:58.566823Z"
    }
   },
   "cell_type": "code",
   "source": [
    "# Train model\n",
    "model = train_combined_model(train_combined_features, train_labels_binary, val_combined_features, val_labels_binary)"
   ],
   "id": "9571e27c608b7fe8",
   "outputs": [
    {
     "name": "stdout",
     "output_type": "stream",
     "text": [
      "Epoch 1/15\n",
      "\u001B[1m 12/157\u001B[0m \u001B[32m━\u001B[0m\u001B[37m━━━━━━━━━━━━━━━━━━━\u001B[0m \u001B[1m1s\u001B[0m 10ms/step - accuracy: 0.5229 - loss: 1.1378"
     ]
    },
    {
     "name": "stderr",
     "output_type": "stream",
     "text": [
      "/home/radu/miniforge3/envs/ML/lib/python3.11/site-packages/keras/src/layers/core/dense.py:87: UserWarning: Do not pass an `input_shape`/`input_dim` argument to a layer. When using Sequential models, prefer using an `Input(shape)` object as the first layer in the model instead.\n",
      "  super().__init__(activity_regularizer=activity_regularizer, **kwargs)\n"
     ]
    },
    {
     "name": "stdout",
     "output_type": "stream",
     "text": [
      "\u001B[1m157/157\u001B[0m \u001B[32m━━━━━━━━━━━━━━━━━━━━\u001B[0m\u001B[37m\u001B[0m \u001B[1m2s\u001B[0m 11ms/step - accuracy: 0.5483 - loss: 0.8109 - val_accuracy: 0.5713 - val_loss: 0.6925\n",
      "Epoch 2/15\n",
      "\u001B[1m157/157\u001B[0m \u001B[32m━━━━━━━━━━━━━━━━━━━━\u001B[0m\u001B[37m\u001B[0m \u001B[1m2s\u001B[0m 11ms/step - accuracy: 0.5825 - loss: 0.6782 - val_accuracy: 0.5630 - val_loss: 0.6852\n",
      "Epoch 3/15\n",
      "\u001B[1m157/157\u001B[0m \u001B[32m━━━━━━━━━━━━━━━━━━━━\u001B[0m\u001B[37m\u001B[0m \u001B[1m2s\u001B[0m 11ms/step - accuracy: 0.6301 - loss: 0.6520 - val_accuracy: 0.5750 - val_loss: 0.6897\n",
      "Epoch 4/15\n",
      "\u001B[1m157/157\u001B[0m \u001B[32m━━━━━━━━━━━━━━━━━━━━\u001B[0m\u001B[37m\u001B[0m \u001B[1m2s\u001B[0m 11ms/step - accuracy: 0.6655 - loss: 0.6185 - val_accuracy: 0.5790 - val_loss: 0.7029\n",
      "Epoch 5/15\n",
      "\u001B[1m157/157\u001B[0m \u001B[32m━━━━━━━━━━━━━━━━━━━━\u001B[0m\u001B[37m\u001B[0m \u001B[1m2s\u001B[0m 10ms/step - accuracy: 0.6811 - loss: 0.5857 - val_accuracy: 0.5807 - val_loss: 0.7185\n",
      "Epoch 6/15\n",
      "\u001B[1m157/157\u001B[0m \u001B[32m━━━━━━━━━━━━━━━━━━━━\u001B[0m\u001B[37m\u001B[0m \u001B[1m2s\u001B[0m 11ms/step - accuracy: 0.6965 - loss: 0.5771 - val_accuracy: 0.5663 - val_loss: 0.7717\n",
      "Epoch 7/15\n",
      "\u001B[1m157/157\u001B[0m \u001B[32m━━━━━━━━━━━━━━━━━━━━\u001B[0m\u001B[37m\u001B[0m \u001B[1m2s\u001B[0m 11ms/step - accuracy: 0.7281 - loss: 0.5289 - val_accuracy: 0.5683 - val_loss: 0.7875\n",
      "Epoch 8/15\n",
      "\u001B[1m157/157\u001B[0m \u001B[32m━━━━━━━━━━━━━━━━━━━━\u001B[0m\u001B[37m\u001B[0m \u001B[1m2s\u001B[0m 11ms/step - accuracy: 0.7667 - loss: 0.4756 - val_accuracy: 0.5717 - val_loss: 0.8228\n",
      "Epoch 9/15\n",
      "\u001B[1m157/157\u001B[0m \u001B[32m━━━━━━━━━━━━━━━━━━━━\u001B[0m\u001B[37m\u001B[0m \u001B[1m2s\u001B[0m 11ms/step - accuracy: 0.7846 - loss: 0.4482 - val_accuracy: 0.5767 - val_loss: 0.9177\n",
      "Epoch 10/15\n",
      "\u001B[1m157/157\u001B[0m \u001B[32m━━━━━━━━━━━━━━━━━━━━\u001B[0m\u001B[37m\u001B[0m \u001B[1m2s\u001B[0m 11ms/step - accuracy: 0.8078 - loss: 0.4116 - val_accuracy: 0.5563 - val_loss: 1.0230\n",
      "Epoch 11/15\n",
      "\u001B[1m157/157\u001B[0m \u001B[32m━━━━━━━━━━━━━━━━━━━━\u001B[0m\u001B[37m\u001B[0m \u001B[1m2s\u001B[0m 11ms/step - accuracy: 0.8326 - loss: 0.3632 - val_accuracy: 0.5687 - val_loss: 1.0919\n",
      "Epoch 12/15\n",
      "\u001B[1m157/157\u001B[0m \u001B[32m━━━━━━━━━━━━━━━━━━━━\u001B[0m\u001B[37m\u001B[0m \u001B[1m2s\u001B[0m 11ms/step - accuracy: 0.8464 - loss: 0.3407 - val_accuracy: 0.5663 - val_loss: 1.2144\n",
      "Epoch 13/15\n",
      "\u001B[1m 66/157\u001B[0m \u001B[32m━━━━━━━━\u001B[0m\u001B[37m━━━━━━━━━━━━\u001B[0m \u001B[1m0s\u001B[0m 9ms/step - accuracy: 0.8824 - loss: 0.2665"
     ]
    },
    {
     "ename": "KeyboardInterrupt",
     "evalue": "",
     "output_type": "error",
     "traceback": [
      "\u001B[0;31m---------------------------------------------------------------------------\u001B[0m",
      "\u001B[0;31mKeyboardInterrupt\u001B[0m                         Traceback (most recent call last)",
      "Cell \u001B[0;32mIn[43], line 2\u001B[0m\n\u001B[1;32m      1\u001B[0m \u001B[38;5;66;03m# Train model\u001B[39;00m\n\u001B[0;32m----> 2\u001B[0m model \u001B[38;5;241m=\u001B[39m \u001B[43mtrain_combined_model\u001B[49m\u001B[43m(\u001B[49m\u001B[43mtrain_combined_features\u001B[49m\u001B[43m,\u001B[49m\u001B[43m \u001B[49m\u001B[43mtrain_labels_binary\u001B[49m\u001B[43m,\u001B[49m\u001B[43m \u001B[49m\u001B[43mval_combined_features\u001B[49m\u001B[43m,\u001B[49m\u001B[43m \u001B[49m\u001B[43mval_labels_binary\u001B[49m\u001B[43m)\u001B[49m\n",
      "Cell \u001B[0;32mIn[37], line 12\u001B[0m, in \u001B[0;36mtrain_combined_model\u001B[0;34m(x_train, y_train, x_val, y_val)\u001B[0m\n\u001B[1;32m     10\u001B[0m model\u001B[38;5;241m.\u001B[39madd(Dense(\u001B[38;5;241m1\u001B[39m, activation\u001B[38;5;241m=\u001B[39m\u001B[38;5;124m'\u001B[39m\u001B[38;5;124msigmoid\u001B[39m\u001B[38;5;124m'\u001B[39m))\n\u001B[1;32m     11\u001B[0m model\u001B[38;5;241m.\u001B[39mcompile(optimizer\u001B[38;5;241m=\u001B[39mAdam(learning_rate \u001B[38;5;241m=\u001B[39m \u001B[38;5;241m1e-3\u001B[39m), loss\u001B[38;5;241m=\u001B[39m\u001B[38;5;124m'\u001B[39m\u001B[38;5;124mbinary_crossentropy\u001B[39m\u001B[38;5;124m'\u001B[39m, metrics\u001B[38;5;241m=\u001B[39m[\u001B[38;5;124m'\u001B[39m\u001B[38;5;124maccuracy\u001B[39m\u001B[38;5;124m'\u001B[39m])\n\u001B[0;32m---> 12\u001B[0m \u001B[43mmodel\u001B[49m\u001B[38;5;241;43m.\u001B[39;49m\u001B[43mfit\u001B[49m\u001B[43m(\u001B[49m\u001B[43mx_train\u001B[49m\u001B[43m,\u001B[49m\u001B[43m \u001B[49m\u001B[43my_train\u001B[49m\u001B[43m,\u001B[49m\u001B[43m \u001B[49m\u001B[43mvalidation_data\u001B[49m\u001B[38;5;241;43m=\u001B[39;49m\u001B[43m(\u001B[49m\u001B[43mx_val\u001B[49m\u001B[43m,\u001B[49m\u001B[43m \u001B[49m\u001B[43my_val\u001B[49m\u001B[43m)\u001B[49m\u001B[43m,\u001B[49m\u001B[43m \u001B[49m\u001B[43mepochs\u001B[49m\u001B[38;5;241;43m=\u001B[39;49m\u001B[38;5;241;43m15\u001B[39;49m\u001B[43m,\u001B[49m\u001B[43m \u001B[49m\u001B[43mbatch_size\u001B[49m\u001B[38;5;241;43m=\u001B[39;49m\u001B[38;5;241;43m64\u001B[39;49m\u001B[43m)\u001B[49m\n\u001B[1;32m     13\u001B[0m \u001B[38;5;28;01mreturn\u001B[39;00m model\n",
      "File \u001B[0;32m~/miniforge3/envs/ML/lib/python3.11/site-packages/keras/src/utils/traceback_utils.py:117\u001B[0m, in \u001B[0;36mfilter_traceback.<locals>.error_handler\u001B[0;34m(*args, **kwargs)\u001B[0m\n\u001B[1;32m    115\u001B[0m filtered_tb \u001B[38;5;241m=\u001B[39m \u001B[38;5;28;01mNone\u001B[39;00m\n\u001B[1;32m    116\u001B[0m \u001B[38;5;28;01mtry\u001B[39;00m:\n\u001B[0;32m--> 117\u001B[0m     \u001B[38;5;28;01mreturn\u001B[39;00m \u001B[43mfn\u001B[49m\u001B[43m(\u001B[49m\u001B[38;5;241;43m*\u001B[39;49m\u001B[43margs\u001B[49m\u001B[43m,\u001B[49m\u001B[43m \u001B[49m\u001B[38;5;241;43m*\u001B[39;49m\u001B[38;5;241;43m*\u001B[39;49m\u001B[43mkwargs\u001B[49m\u001B[43m)\u001B[49m\n\u001B[1;32m    118\u001B[0m \u001B[38;5;28;01mexcept\u001B[39;00m \u001B[38;5;167;01mException\u001B[39;00m \u001B[38;5;28;01mas\u001B[39;00m e:\n\u001B[1;32m    119\u001B[0m     filtered_tb \u001B[38;5;241m=\u001B[39m _process_traceback_frames(e\u001B[38;5;241m.\u001B[39m__traceback__)\n",
      "File \u001B[0;32m~/miniforge3/envs/ML/lib/python3.11/site-packages/keras/src/backend/torch/trainer.py:257\u001B[0m, in \u001B[0;36mTorchTrainer.fit\u001B[0;34m(self, x, y, batch_size, epochs, verbose, callbacks, validation_split, validation_data, shuffle, class_weight, sample_weight, initial_epoch, steps_per_epoch, validation_steps, validation_batch_size, validation_freq)\u001B[0m\n\u001B[1;32m    253\u001B[0m \u001B[38;5;28;01mfor\u001B[39;00m step, data \u001B[38;5;129;01min\u001B[39;00m epoch_iterator:\n\u001B[1;32m    254\u001B[0m     \u001B[38;5;66;03m# Callbacks\u001B[39;00m\n\u001B[1;32m    255\u001B[0m     callbacks\u001B[38;5;241m.\u001B[39mon_train_batch_begin(step)\n\u001B[0;32m--> 257\u001B[0m     logs \u001B[38;5;241m=\u001B[39m \u001B[38;5;28;43mself\u001B[39;49m\u001B[38;5;241;43m.\u001B[39;49m\u001B[43mtrain_function\u001B[49m\u001B[43m(\u001B[49m\u001B[43mdata\u001B[49m\u001B[43m)\u001B[49m\n\u001B[1;32m    259\u001B[0m     \u001B[38;5;66;03m# Callbacks\u001B[39;00m\n\u001B[1;32m    260\u001B[0m     callbacks\u001B[38;5;241m.\u001B[39mon_train_batch_end(step, logs)\n",
      "File \u001B[0;32m~/miniforge3/envs/ML/lib/python3.11/site-packages/keras/src/backend/torch/trainer.py:117\u001B[0m, in \u001B[0;36mTorchTrainer.make_train_function.<locals>.one_step_on_data\u001B[0;34m(data)\u001B[0m\n\u001B[1;32m    115\u001B[0m \u001B[38;5;250m\u001B[39m\u001B[38;5;124;03m\"\"\"Runs a single training step on a batch of data.\"\"\"\u001B[39;00m\n\u001B[1;32m    116\u001B[0m data \u001B[38;5;241m=\u001B[39m data[\u001B[38;5;241m0\u001B[39m]\n\u001B[0;32m--> 117\u001B[0m \u001B[38;5;28;01mreturn\u001B[39;00m \u001B[38;5;28;43mself\u001B[39;49m\u001B[38;5;241;43m.\u001B[39;49m\u001B[43mtrain_step\u001B[49m\u001B[43m(\u001B[49m\u001B[43mdata\u001B[49m\u001B[43m)\u001B[49m\n",
      "File \u001B[0;32m~/miniforge3/envs/ML/lib/python3.11/site-packages/keras/src/backend/torch/trainer.py:65\u001B[0m, in \u001B[0;36mTorchTrainer.train_step\u001B[0;34m(self, data)\u001B[0m\n\u001B[1;32m     61\u001B[0m \u001B[38;5;66;03m# Compute gradients\u001B[39;00m\n\u001B[1;32m     62\u001B[0m \u001B[38;5;28;01mif\u001B[39;00m \u001B[38;5;28mself\u001B[39m\u001B[38;5;241m.\u001B[39mtrainable_weights:\n\u001B[1;32m     63\u001B[0m     \u001B[38;5;66;03m# Call torch.Tensor.backward() on the loss to compute gradients\u001B[39;00m\n\u001B[1;32m     64\u001B[0m     \u001B[38;5;66;03m# for the weights.\u001B[39;00m\n\u001B[0;32m---> 65\u001B[0m     \u001B[43mloss\u001B[49m\u001B[38;5;241;43m.\u001B[39;49m\u001B[43mbackward\u001B[49m\u001B[43m(\u001B[49m\u001B[43m)\u001B[49m\n\u001B[1;32m     67\u001B[0m     trainable_weights \u001B[38;5;241m=\u001B[39m \u001B[38;5;28mself\u001B[39m\u001B[38;5;241m.\u001B[39mtrainable_weights[:]\n\u001B[1;32m     68\u001B[0m     gradients \u001B[38;5;241m=\u001B[39m [v\u001B[38;5;241m.\u001B[39mvalue\u001B[38;5;241m.\u001B[39mgrad \u001B[38;5;28;01mfor\u001B[39;00m v \u001B[38;5;129;01min\u001B[39;00m trainable_weights]\n",
      "File \u001B[0;32m~/miniforge3/envs/ML/lib/python3.11/site-packages/torch/_tensor.py:581\u001B[0m, in \u001B[0;36mTensor.backward\u001B[0;34m(self, gradient, retain_graph, create_graph, inputs)\u001B[0m\n\u001B[1;32m    571\u001B[0m \u001B[38;5;28;01mif\u001B[39;00m has_torch_function_unary(\u001B[38;5;28mself\u001B[39m):\n\u001B[1;32m    572\u001B[0m     \u001B[38;5;28;01mreturn\u001B[39;00m handle_torch_function(\n\u001B[1;32m    573\u001B[0m         Tensor\u001B[38;5;241m.\u001B[39mbackward,\n\u001B[1;32m    574\u001B[0m         (\u001B[38;5;28mself\u001B[39m,),\n\u001B[0;32m   (...)\u001B[0m\n\u001B[1;32m    579\u001B[0m         inputs\u001B[38;5;241m=\u001B[39minputs,\n\u001B[1;32m    580\u001B[0m     )\n\u001B[0;32m--> 581\u001B[0m \u001B[43mtorch\u001B[49m\u001B[38;5;241;43m.\u001B[39;49m\u001B[43mautograd\u001B[49m\u001B[38;5;241;43m.\u001B[39;49m\u001B[43mbackward\u001B[49m\u001B[43m(\u001B[49m\n\u001B[1;32m    582\u001B[0m \u001B[43m    \u001B[49m\u001B[38;5;28;43mself\u001B[39;49m\u001B[43m,\u001B[49m\u001B[43m \u001B[49m\u001B[43mgradient\u001B[49m\u001B[43m,\u001B[49m\u001B[43m \u001B[49m\u001B[43mretain_graph\u001B[49m\u001B[43m,\u001B[49m\u001B[43m \u001B[49m\u001B[43mcreate_graph\u001B[49m\u001B[43m,\u001B[49m\u001B[43m \u001B[49m\u001B[43minputs\u001B[49m\u001B[38;5;241;43m=\u001B[39;49m\u001B[43minputs\u001B[49m\n\u001B[1;32m    583\u001B[0m \u001B[43m\u001B[49m\u001B[43m)\u001B[49m\n",
      "File \u001B[0;32m~/miniforge3/envs/ML/lib/python3.11/site-packages/torch/autograd/__init__.py:347\u001B[0m, in \u001B[0;36mbackward\u001B[0;34m(tensors, grad_tensors, retain_graph, create_graph, grad_variables, inputs)\u001B[0m\n\u001B[1;32m    342\u001B[0m     retain_graph \u001B[38;5;241m=\u001B[39m create_graph\n\u001B[1;32m    344\u001B[0m \u001B[38;5;66;03m# The reason we repeat the same comment below is that\u001B[39;00m\n\u001B[1;32m    345\u001B[0m \u001B[38;5;66;03m# some Python versions print out the first line of a multi-line function\u001B[39;00m\n\u001B[1;32m    346\u001B[0m \u001B[38;5;66;03m# calls in the traceback and some print out the last line\u001B[39;00m\n\u001B[0;32m--> 347\u001B[0m \u001B[43m_engine_run_backward\u001B[49m\u001B[43m(\u001B[49m\n\u001B[1;32m    348\u001B[0m \u001B[43m    \u001B[49m\u001B[43mtensors\u001B[49m\u001B[43m,\u001B[49m\n\u001B[1;32m    349\u001B[0m \u001B[43m    \u001B[49m\u001B[43mgrad_tensors_\u001B[49m\u001B[43m,\u001B[49m\n\u001B[1;32m    350\u001B[0m \u001B[43m    \u001B[49m\u001B[43mretain_graph\u001B[49m\u001B[43m,\u001B[49m\n\u001B[1;32m    351\u001B[0m \u001B[43m    \u001B[49m\u001B[43mcreate_graph\u001B[49m\u001B[43m,\u001B[49m\n\u001B[1;32m    352\u001B[0m \u001B[43m    \u001B[49m\u001B[43minputs\u001B[49m\u001B[43m,\u001B[49m\n\u001B[1;32m    353\u001B[0m \u001B[43m    \u001B[49m\u001B[43mallow_unreachable\u001B[49m\u001B[38;5;241;43m=\u001B[39;49m\u001B[38;5;28;43;01mTrue\u001B[39;49;00m\u001B[43m,\u001B[49m\n\u001B[1;32m    354\u001B[0m \u001B[43m    \u001B[49m\u001B[43maccumulate_grad\u001B[49m\u001B[38;5;241;43m=\u001B[39;49m\u001B[38;5;28;43;01mTrue\u001B[39;49;00m\u001B[43m,\u001B[49m\n\u001B[1;32m    355\u001B[0m \u001B[43m\u001B[49m\u001B[43m)\u001B[49m\n",
      "File \u001B[0;32m~/miniforge3/envs/ML/lib/python3.11/site-packages/torch/autograd/graph.py:825\u001B[0m, in \u001B[0;36m_engine_run_backward\u001B[0;34m(t_outputs, *args, **kwargs)\u001B[0m\n\u001B[1;32m    823\u001B[0m     unregister_hooks \u001B[38;5;241m=\u001B[39m _register_logging_hooks_on_whole_graph(t_outputs)\n\u001B[1;32m    824\u001B[0m \u001B[38;5;28;01mtry\u001B[39;00m:\n\u001B[0;32m--> 825\u001B[0m     \u001B[38;5;28;01mreturn\u001B[39;00m \u001B[43mVariable\u001B[49m\u001B[38;5;241;43m.\u001B[39;49m\u001B[43m_execution_engine\u001B[49m\u001B[38;5;241;43m.\u001B[39;49m\u001B[43mrun_backward\u001B[49m\u001B[43m(\u001B[49m\u001B[43m  \u001B[49m\u001B[38;5;66;43;03m# Calls into the C++ engine to run the backward pass\u001B[39;49;00m\n\u001B[1;32m    826\u001B[0m \u001B[43m        \u001B[49m\u001B[43mt_outputs\u001B[49m\u001B[43m,\u001B[49m\u001B[43m \u001B[49m\u001B[38;5;241;43m*\u001B[39;49m\u001B[43margs\u001B[49m\u001B[43m,\u001B[49m\u001B[43m \u001B[49m\u001B[38;5;241;43m*\u001B[39;49m\u001B[38;5;241;43m*\u001B[39;49m\u001B[43mkwargs\u001B[49m\n\u001B[1;32m    827\u001B[0m \u001B[43m    \u001B[49m\u001B[43m)\u001B[49m  \u001B[38;5;66;03m# Calls into the C++ engine to run the backward pass\u001B[39;00m\n\u001B[1;32m    828\u001B[0m \u001B[38;5;28;01mfinally\u001B[39;00m:\n\u001B[1;32m    829\u001B[0m     \u001B[38;5;28;01mif\u001B[39;00m attach_logging_hooks:\n",
      "\u001B[0;31mKeyboardInterrupt\u001B[0m: "
     ]
    }
   ],
   "execution_count": 43
  },
  {
   "metadata": {
    "ExecuteTime": {
     "end_time": "2024-12-20T01:19:01.637367Z",
     "start_time": "2024-12-20T01:19:01.514547Z"
    }
   },
   "cell_type": "code",
   "source": [
    "# Visualize the first image feature\n",
    "import matplotlib.pyplot as plt\n",
    "\n",
    "plt.plot(train_image_features[0])\n",
    "plt.title(\"First Image Feature\")\n",
    "plt.show()\n"
   ],
   "id": "b4a7168c59244dda",
   "outputs": [
    {
     "data": {
      "text/plain": [
       "<Figure size 640x480 with 1 Axes>"
      ],
      "image/png": "[encoded data removed]"
     },
     "metadata": {},
     "output_type": "display_data"
    }
   ],
   "execution_count": 32
  },
  {
   "metadata": {
    "ExecuteTime": {
     "end_time": "2024-12-20T01:19:04.254562Z",
     "start_time": "2024-12-20T01:19:04.251745Z"
    }
   },
   "cell_type": "code",
   "source": [
    "# Print the first text feature\n",
    "print(\"First text feature vector:\", train_lstm_features[0])"
   ],
   "id": "4e1cca7a5886ae10",
   "outputs": [
    {
     "name": "stdout",
     "output_type": "stream",
     "text": [
      "First text feature vector: [0.00214969 0.0088923  0.         ... 0.00681698 0.00231647 0.        ]\n"
     ]
    }
   ],
   "execution_count": 33
  },
  {
   "metadata": {
    "ExecuteTime": {
     "end_time": "2024-12-20T01:19:20.027031Z",
     "start_time": "2024-12-20T01:19:15.316026Z"
    }
   },
   "cell_type": "code",
   "source": [
    "# Preprocess test captions\n",
    "test['processed_caption'] = preprocess_captions(test['caption'])\n",
    "\n",
    "# Pad sequences for LSTM\n",
    "test_padded = pad_sequences(test_caption_ids, maxlen=max_length, padding='post')\n",
    "\n",
    "# Extract test LSTM features\n",
    "test_lstm_features = lstm_model.predict(test_padded)\n",
    "\n",
    "# Load and preprocess test images\n",
    "test_image_data = load_images(['./test_images'])\n",
    "test_image_features = extract_image_features(test_image_data, cnn_model)\n",
    "\n",
    "# Align test image features with test.csv\n",
    "test_aligned_image_features = align_image_features(test_image_features, test)\n",
    "\n",
    "# Combine test features\n",
    "test_combined_features = np.concatenate((test_aligned_image_features, test_lstm_features), axis=1)\n"
   ],
   "id": "aa17cb5323febb7f",
   "outputs": [
    {
     "name": "stdout",
     "output_type": "stream",
     "text": [
      "\u001B[1m63/63\u001B[0m \u001B[32m━━━━━━━━━━━━━━━━━━━━\u001B[0m\u001B[37m\u001B[0m \u001B[1m2s\u001B[0m 33ms/step\n"
     ]
    },
    {
     "name": "stderr",
     "output_type": "stream",
     "text": [
      "Loading images from folder ./test_images: 100%|██████████| 1978/1978 [00:00<00:00, 3066.63it/s]\n"
     ]
    },
    {
     "name": "stdout",
     "output_type": "stream",
     "text": [
      "\u001B[1m62/62\u001B[0m \u001B[32m━━━━━━━━━━━━━━━━━━━━\u001B[0m\u001B[37m\u001B[0m \u001B[1m2s\u001B[0m 25ms/step\n"
     ]
    }
   ],
   "execution_count": 34
  },
  {
   "metadata": {
    "ExecuteTime": {
     "end_time": "2024-12-20T01:19:22.059238Z",
     "start_time": "2024-12-20T01:19:21.934842Z"
    }
   },
   "cell_type": "code",
   "source": [
    "# Make predictions\n",
    "test_predictions = model.predict(test_combined_features)\n",
    "\n",
    "# Convert probabilities to binary labels\n",
    "test_labels = (test_predictions > 0.5).astype(int).flatten()"
   ],
   "id": "32b55b71a9c17328",
   "outputs": [
    {
     "name": "stdout",
     "output_type": "stream",
     "text": [
      "\u001B[1m63/63\u001B[0m \u001B[32m━━━━━━━━━━━━━━━━━━━━\u001B[0m\u001B[37m\u001B[0m \u001B[1m0s\u001B[0m 2ms/step\n"
     ]
    }
   ],
   "execution_count": 35
  },
  {
   "metadata": {
    "ExecuteTime": {
     "end_time": "2024-12-20T01:19:24.519748Z",
     "start_time": "2024-12-20T01:19:24.505220Z"
    }
   },
   "cell_type": "code",
   "source": [
    "# Create submission\n",
    "sample_submission = pd.read_csv('sample_submission.csv')\n",
    "sample_submission['label'] = test_labels  # Update 'label' column with predictions\n",
    "\n",
    "# Save submission file\n",
    "submission_path = 'submission.csv'\n",
    "sample_submission.to_csv(submission_path, index=False)\n",
    "\n",
    "print(f\"Submission file created: {submission_path}\")"
   ],
   "id": "db5f20b9666bbc6",
   "outputs": [
    {
     "name": "stdout",
     "output_type": "stream",
     "text": [
      "Submission file created: submission.csv\n"
     ]
    }
   ],
   "execution_count": 36
  },
  {
   "metadata": {},
   "cell_type": "markdown",
   "source": "### Expepriments",
   "id": "16abd5b6093eb042"
  },
  {
   "metadata": {
    "ExecuteTime": {
     "end_time": "2024-12-19T23:41:41.305228Z",
     "start_time": "2024-12-19T23:41:41.302306Z"
    }
   },
   "cell_type": "code",
   "source": [
    "print(\"Class distribution in training labels:\", np.bincount(train_labels_binary))\n",
    "print(\"Class distribution in validation labels:\", np.bincount(val_labels_binary))\n"
   ],
   "id": "d223aa26c1dc72c7",
   "outputs": [
    {
     "name": "stdout",
     "output_type": "stream",
     "text": [
      "Class distribution in training labels: [5000 5000]\n",
      "Class distribution in validation labels: [1500 1500]\n"
     ]
    }
   ],
   "execution_count": 44
  },
  {
   "metadata": {
    "ExecuteTime": {
     "end_time": "2024-12-19T23:53:32.358709Z",
     "start_time": "2024-12-19T23:53:32.303921Z"
    }
   },
   "cell_type": "code",
   "source": [
    "print(\"Mean of train_combined_features:\", np.mean(train_combined_features, axis=0))\n",
    "print(\"Std deviation of train_combined_features:\", np.std(train_combined_features, axis=0))\n"
   ],
   "id": "e9646441058a0734",
   "outputs": [
    {
     "name": "stdout",
     "output_type": "stream",
     "text": [
      "Mean of train_combined_features: [ 7.1674583e-10  2.9712914e-09 -2.0229816e-08 ... -3.1371155e-07\n",
      " -3.9089173e-07  1.1891126e-08]\n",
      "Std deviation of train_combined_features: [1.0000001  0.99999845 1.0000023  ... 1.0000511  0.9999823  0.99999964]\n"
     ]
    }
   ],
   "execution_count": 52
  },
  {
   "metadata": {
    "ExecuteTime": {
     "end_time": "2024-12-19T23:58:02.072161Z",
     "start_time": "2024-12-19T23:58:02.067782Z"
    }
   },
   "cell_type": "code",
   "source": [
    "# Print feature shapes\n",
    "print(\"Shape of Image Features:\", train_image_features.shape)\n",
    "print(\"Shape of LSTM Features:\", train_lstm_features.shape)\n",
    "print(\"Shape of Combined Features (Train):\", train_combined_features.shape)\n",
    "print(\"Shape of Combined Features (Validation):\", val_combined_features.shape)\n",
    "print(\"Shape of Combined Features (Test):\", test_combined_features.shape)\n",
    "\n",
    "# Print example combined features\n",
    "print(\"First Combined Feature (Train):\", train_combined_features[0])\n",
    "print(\"First Combined Feature (Validation):\", val_combined_features[0])"
   ],
   "id": "b59cd4c745bae823",
   "outputs": [
    {
     "name": "stdout",
     "output_type": "stream",
     "text": [
      "Shape of Image Features: (9463, 1024)\n",
      "Shape of LSTM Features: (10000, 1024)\n",
      "Shape of Combined Features (Train): (10000, 2048)\n",
      "Shape of Combined Features (Validation): (3000, 2048)\n",
      "Shape of Combined Features (Test): (2000, 2048)\n",
      "First Combined Feature (Train): [ 1.1415048   1.4631248   0.85797757 ... -0.02460239 -0.01245795\n",
      "  0.623907  ]\n",
      "First Combined Feature (Validation): [ 1.7528973   1.8607658   3.6521046  ... -0.02460239 -0.01245795\n",
      " -0.679667  ]\n"
     ]
    }
   ],
   "execution_count": 55
  },
  {
   "metadata": {
    "ExecuteTime": {
     "end_time": "2024-12-19T23:58:24.750634Z",
     "start_time": "2024-12-19T23:58:24.744071Z"
    }
   },
   "cell_type": "code",
   "source": [
    "# Check alignment of image and text features\n",
    "print(\"First Image Feature (Train):\", train_image_features[0])\n",
    "print(\"First LSTM Feature (Train):\", train_lstm_features[0])\n",
    "print(\"Corresponding Combined Feature:\", train_combined_features[0])\n",
    "\n",
    "# Confirm alignment with captions\n",
    "print(\"First Caption (Train):\", train['processed_caption'].iloc[0])\n",
    "print(\"First Label (Train):\", train_labels_binary[0])"
   ],
   "id": "7966a4fb3cfcc8c8",
   "outputs": [
    {
     "name": "stdout",
     "output_type": "stream",
     "text": [
      "First Image Feature (Train): [0.07949073 0.14582914 0.04804631 ... 0.         0.         0.        ]\n",
      "First LSTM Feature (Train): [0.         0.         0.00066396 ... 0.         0.         0.0007302 ]\n",
      "Corresponding Combined Feature: [ 1.1415048   1.4631248   0.85797757 ... -0.02460239 -0.01245795\n",
      "  0.623907  ]\n",
      "First Caption (Train): wet eleph shake water onto peopl bath\n",
      "First Label (Train): 0\n"
     ]
    }
   ],
   "execution_count": 56
  },
  {
   "metadata": {
    "ExecuteTime": {
     "end_time": "2024-12-19T23:58:44.946667Z",
     "start_time": "2024-12-19T23:58:44.940964Z"
    }
   },
   "cell_type": "code",
   "source": [
    "# Visualize first 5 captions with their combined features\n",
    "for i in range(5):\n",
    "    print(f\"Caption {i+1}: {train['processed_caption'].iloc[i]}\")\n",
    "    print(f\"Combined Feature {i+1}: {train_combined_features[i]}\")\n",
    "    print(f\"Label {i+1}: {train_labels_binary[i]}\")\n",
    "    print(\"-\" * 50)"
   ],
   "id": "c60c50dc11200e35",
   "outputs": [
    {
     "name": "stdout",
     "output_type": "stream",
     "text": [
      "Caption 1: wet eleph shake water onto peopl bath\n",
      "Combined Feature 1: [ 1.1415048   1.4631248   0.85797757 ... -0.02460239 -0.01245795\n",
      "  0.623907  ]\n",
      "Label 1: 0\n",
      "--------------------------------------------------\n",
      "Caption 2: two men hold tenni racquet court\n",
      "Combined Feature 2: [ 1.7528973   1.8607658   3.6521046  ... -0.02460239 -0.01245795\n",
      "  0.7389239 ]\n",
      "Label 2: 0\n",
      "--------------------------------------------------\n",
      "Caption 3: bird tree limb mountain background\n",
      "Combined Feature 3: [-0.16754387  1.5710789  -0.76670355 ... -0.02460239 -0.01245795\n",
      " -0.73878545]\n",
      "Label 3: 0\n",
      "--------------------------------------------------\n",
      "Caption 4: kitchen dine room featur along larg dine room tabl kitchen applianc chandeli\n",
      "Combined Feature 4: [ 1.1427628   0.21705166 -0.19542582 ... -0.02460239 -0.01245795\n",
      "  1.0170623 ]\n",
      "Label 4: 0\n",
      "--------------------------------------------------\n",
      "Caption 5: fruit stand various fruit tabl\n",
      "Combined Feature 5: [ 0.28843856 -0.24785925 -1.469196   ... -0.02460239 -0.01245795\n",
      " -0.81485134]\n",
      "Label 5: 1\n",
      "--------------------------------------------------\n"
     ]
    }
   ],
   "execution_count": 57
  },
  {
   "metadata": {
    "ExecuteTime": {
     "end_time": "2024-12-19T23:59:07.014325Z",
     "start_time": "2024-12-19T23:59:06.970551Z"
    }
   },
   "cell_type": "code",
   "source": [
    "# Analyze distribution of combined features\n",
    "print(\"Mean of Combined Features (Train):\", np.mean(train_combined_features, axis=0))\n",
    "print(\"Standard Deviation of Combined Features (Train):\", np.std(train_combined_features, axis=0))\n"
   ],
   "id": "6b898d7a8a7d544",
   "outputs": [
    {
     "name": "stdout",
     "output_type": "stream",
     "text": [
      "Mean of Combined Features (Train): [ 7.1674583e-10  2.9712914e-09 -2.0229816e-08 ... -3.1371155e-07\n",
      " -3.9089173e-07  1.1891126e-08]\n",
      "Standard Deviation of Combined Features (Train): [1.0000001  0.99999845 1.0000023  ... 1.0000511  0.9999823  0.99999964]\n"
     ]
    }
   ],
   "execution_count": 58
  },
  {
   "metadata": {
    "ExecuteTime": {
     "end_time": "2024-12-19T23:59:38.670163Z",
     "start_time": "2024-12-19T23:59:38.635971Z"
    }
   },
   "cell_type": "code",
   "source": [
    "# Check variance of combined features\n",
    "print(\"Variance of Combined Features (Train):\", np.var(train_combined_features, axis=0))\n"
   ],
   "id": "b9a348d6c2067748",
   "outputs": [
    {
     "name": "stdout",
     "output_type": "stream",
     "text": [
      "Variance of Combined Features (Train): [1.0000002  0.99999696 1.0000046  ... 1.0001023  0.99996465 0.99999934]\n"
     ]
    }
   ],
   "execution_count": 59
  }
 ],
 "metadata": {
  "kernelspec": {
   "display_name": "Python 3",
   "language": "python",
   "name": "python3"
  },
  "language_info": {
   "codemirror_mode": {
    "name": "ipython",
    "version": 2
   },
   "file_extension": ".py",
   "mimetype": "text/x-python",
   "name": "python",
   "nbconvert_exporter": "python",
   "pygments_lexer": "ipython2",
   "version": "2.7.6"
  }
 },
 "nbformat": 4,
 "nbformat_minor": 5
}
