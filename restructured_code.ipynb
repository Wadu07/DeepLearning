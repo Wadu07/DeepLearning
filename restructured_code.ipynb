{
 "cells": [
  {
   "cell_type": "code",
   "id": "initial_id",
   "metadata": {
    "collapsed": true,
    "ExecuteTime": {
     "end_time": "2024-12-19T23:18:52.054575Z",
     "start_time": "2024-12-19T23:18:52.046026Z"
    }
   },
   "source": "%env KERAS_BACKEND=torch",
   "outputs": [
    {
     "name": "stdout",
     "output_type": "stream",
     "text": [
      "env: KERAS_BACKEND=torch\n"
     ]
    }
   ],
   "execution_count": 1
  },
  {
   "metadata": {
    "ExecuteTime": {
     "end_time": "2024-12-19T23:18:56.084017Z",
     "start_time": "2024-12-19T23:18:52.421405Z"
    }
   },
   "cell_type": "code",
   "source": [
    "import os\n",
    "import numpy as np\n",
    "import pandas as pd\n",
    "from tqdm import tqdm\n",
    "from PIL import Image\n",
    "from keras.models import Sequential, Model\n",
    "from keras.layers import Dense, Conv2D, Flatten, MaxPooling2D, Dropout, Embedding, LSTM\n",
    "from keras.preprocessing.sequence import pad_sequences\n",
    "from keras.utils import to_categorical\n",
    "from keras.optimizers import Adam\n",
    "\n",
    "import nltk\n",
    "from nltk.corpus import stopwords\n",
    "from nltk.tokenize import word_tokenize\n",
    "from nltk.stem import SnowballStemmer\n",
    "import re"
   ],
   "id": "d8554707ffb791cf",
   "outputs": [],
   "execution_count": 2
  },
  {
   "metadata": {
    "ExecuteTime": {
     "end_time": "2024-12-19T23:18:56.227171Z",
     "start_time": "2024-12-19T23:18:56.085256Z"
    }
   },
   "cell_type": "code",
   "source": [
    "nltk.download('stopwords')\n",
    "snow_stemmer = SnowballStemmer(language='english')"
   ],
   "id": "abd13cdc9e45aba3",
   "outputs": [
    {
     "name": "stderr",
     "output_type": "stream",
     "text": [
      "[nltk_data] Downloading package stopwords to /home/radu/nltk_data...\n",
      "[nltk_data]   Package stopwords is already up-to-date!\n"
     ]
    }
   ],
   "execution_count": 3
  },
  {
   "metadata": {
    "ExecuteTime": {
     "end_time": "2024-12-19T23:18:56.231623Z",
     "start_time": "2024-12-19T23:18:56.228691Z"
    }
   },
   "cell_type": "code",
   "source": [
    "# Global variables\n",
    "image_size = (100, 100)\n",
    "embedding_dim = 256\n",
    "lstm_units = 256\n",
    "batch_size = 32\n",
    "num_classes = 2"
   ],
   "id": "b84f513b89570546",
   "outputs": [],
   "execution_count": 4
  },
  {
   "metadata": {},
   "cell_type": "markdown",
   "source": "### Loading images",
   "id": "578de94aae14c777"
  },
  {
   "metadata": {
    "ExecuteTime": {
     "end_time": "2024-12-19T23:18:56.242231Z",
     "start_time": "2024-12-19T23:18:56.233445Z"
    }
   },
   "cell_type": "code",
   "source": [
    "def load_images(folder_path):\n",
    "    \"\"\"Load and preprocess images from a folder.\"\"\"\n",
    "    image_data = []\n",
    "    for folder in folder_path:\n",
    "        files = [f for f in os.listdir(folder) if f.endswith('.jpg')]\n",
    "        for file_name in tqdm(files, desc=f\"Loading images from folder {folder}\"):\n",
    "            file_path = os.path.join(folder, file_name)\n",
    "            img = Image.open(file_path)\n",
    "            if img.mode != \"RGB\":\n",
    "                img = img.convert(\"RGB\")\n",
    "            img = img.resize(image_size)\n",
    "            img_arr = np.array(img) / 255.0  # Normalize\n",
    "            image_data.append(img_arr)\n",
    "    return np.array(image_data)"
   ],
   "id": "15a7052f39d8725",
   "outputs": [],
   "execution_count": 5
  },
  {
   "metadata": {},
   "cell_type": "markdown",
   "source": "### Preprocess text",
   "id": "124990ae6fe7ffe9"
  },
  {
   "metadata": {
    "ExecuteTime": {
     "end_time": "2024-12-19T23:18:56.248816Z",
     "start_time": "2024-12-19T23:18:56.243760Z"
    }
   },
   "cell_type": "code",
   "source": [
    "def preprocess_captions(captions):\n",
    "    \"\"\"Preprocess captions by removing stopwords, punctuation, and stemming.\"\"\"\n",
    "    stop_words = set(stopwords.words('english'))\n",
    "    processed_captions = []\n",
    "    for sentence in captions:\n",
    "        sentence = re.sub(r'[^\\w\\s]', '', sentence)  # Remove punctuation\n",
    "        tokens = word_tokenize(sentence)\n",
    "        tokens = [snow_stemmer.stem(word.lower()) for word in tokens if word.lower() not in stop_words]\n",
    "        processed_captions.append(' '.join(tokens))\n",
    "    return processed_captions"
   ],
   "id": "595c7b3f23bf0efa",
   "outputs": [],
   "execution_count": 6
  },
  {
   "metadata": {
    "ExecuteTime": {
     "end_time": "2024-12-19T23:18:56.253299Z",
     "start_time": "2024-12-19T23:18:56.250130Z"
    }
   },
   "cell_type": "code",
   "source": [
    "\n",
    "def map_words_to_ids(captions):\n",
    "    \"\"\"Map unique words in captions to unique IDs.\"\"\"\n",
    "    mapped_ids = {}\n",
    "    k = 0\n",
    "    for sentence in captions:\n",
    "        for word in sentence.split():\n",
    "            if word not in mapped_ids:\n",
    "                mapped_ids[word] = k\n",
    "                k += 1\n",
    "    return mapped_ids"
   ],
   "id": "93eaba347a7ce580",
   "outputs": [],
   "execution_count": 7
  },
  {
   "metadata": {
    "ExecuteTime": {
     "end_time": "2024-12-19T23:18:56.257585Z",
     "start_time": "2024-12-19T23:18:56.254325Z"
    }
   },
   "cell_type": "code",
   "source": [
    "def encode_captions(captions, word_map):\n",
    "    \"\"\"Encode captions into sequences of IDs, dynamically adding new words.\"\"\"\n",
    "    for caption in captions:\n",
    "        for word in caption.split():\n",
    "            if word not in word_map:\n",
    "                word_map[word] = len(word_map)  # Add new word to the map\n",
    "    return [[word_map[word] for word in caption.split()] for caption in captions]\n"
   ],
   "id": "a1a0a6615abce506",
   "outputs": [],
   "execution_count": 8
  },
  {
   "metadata": {
    "ExecuteTime": {
     "end_time": "2024-12-19T23:18:56.262554Z",
     "start_time": "2024-12-19T23:18:56.258707Z"
    }
   },
   "cell_type": "code",
   "source": [
    "\n",
    "def align_image_features(image_features, df):\n",
    "    \"\"\"Align image features based on image IDs in the dataset.\"\"\"\n",
    "    unique_image_ids = df['image_id'].unique()\n",
    "    image_id_to_index = {img_id: idx for idx, img_id in enumerate(unique_image_ids)}\n",
    "    aligned_features = [image_features[image_id_to_index[img_id]] for img_id in df['image_id']]\n",
    "    return np.array(aligned_features)"
   ],
   "id": "d5e258566a67343d",
   "outputs": [],
   "execution_count": 9
  },
  {
   "metadata": {
    "ExecuteTime": {
     "end_time": "2024-12-19T23:18:56.308385Z",
     "start_time": "2024-12-19T23:18:56.302466Z"
    }
   },
   "cell_type": "code",
   "source": [
    "def build_cnn_model():\n",
    "    \"\"\"Build a CNN model for image feature extraction.\"\"\"\n",
    "    model = Sequential()\n",
    "    model.add(Conv2D(32, kernel_size=3, padding='same', activation='relu', input_shape=(100, 100, 3)))\n",
    "    model.add(Conv2D(64, kernel_size=3, activation='relu'))\n",
    "    model.add(MaxPooling2D(pool_size=2))\n",
    "    model.add(Dropout(0.3))\n",
    "    model.add(Conv2D(128, kernel_size=3, padding='same', activation='relu'))\n",
    "    model.add(Conv2D(128, kernel_size=3, activation='relu'))\n",
    "    model.add(MaxPooling2D(pool_size=2))\n",
    "    model.add(Dropout(0.4))\n",
    "    model.add(Flatten())\n",
    "    model.add(Dense(1024, activation='relu'))\n",
    "    return model"
   ],
   "id": "a94fb0d2d56a22ce",
   "outputs": [],
   "execution_count": 10
  },
  {
   "metadata": {
    "ExecuteTime": {
     "end_time": "2024-12-19T23:18:56.573187Z",
     "start_time": "2024-12-19T23:18:56.569472Z"
    }
   },
   "cell_type": "code",
   "source": [
    "def extract_image_features(image_data, model):\n",
    "    \"\"\"Extract features from images using the CNN model.\"\"\"\n",
    "    #feature_extractor = Sequential(model.layers[:-1])\n",
    "    return model.predict(image_data)"
   ],
   "id": "2fdde8f1918bbc8c",
   "outputs": [],
   "execution_count": 11
  },
  {
   "metadata": {
    "ExecuteTime": {
     "end_time": "2024-12-19T23:18:56.972992Z",
     "start_time": "2024-12-19T23:18:56.967917Z"
    }
   },
   "cell_type": "code",
   "source": [
    "def build_lstm_model(vocab_size, max_length):\n",
    "    \"\"\"Build an LSTM model for text feature extraction.\"\"\"\n",
    "    model = Sequential()\n",
    "    model.add(Embedding(vocab_size, embedding_dim, input_length=max_length))\n",
    "    model.add(LSTM(lstm_units, activation='tanh', return_sequences=True))\n",
    "    model.add(Dropout(0.2))\n",
    "    model.add(LSTM(lstm_units, activation='tanh', return_sequences=False))\n",
    "    model.add(Dropout(0.2))\n",
    "    model.add(Dense(1024, activation='relu'))\n",
    "    return model"
   ],
   "id": "2f8c025c48b4fb6d",
   "outputs": [],
   "execution_count": 12
  },
  {
   "metadata": {
    "ExecuteTime": {
     "end_time": "2024-12-19T23:18:57.286539Z",
     "start_time": "2024-12-19T23:18:57.280504Z"
    }
   },
   "cell_type": "code",
   "source": [
    "def train_combined_model(x_train, y_train, x_val, y_val):\n",
    "    \"\"\"Train a dense model on combined features.\"\"\"\n",
    "    model = Sequential()\n",
    "    model.add(Dense(1024, activation='relu', input_shape=(x_train.shape[1],)))\n",
    "    model.add(Dropout(0.3))\n",
    "    model.add(Dense(512, activation='relu'))\n",
    "    model.add(Dropout(0.3))\n",
    "    model.add(Dense(256, activation='relu'))\n",
    "    model.add(Dropout(0.2))\n",
    "    model.add(Dense(1, activation='sigmoid'))\n",
    "    model.compile(optimizer=Adam(learning_rate = 1e-4), loss='binary_crossentropy', metrics=['accuracy'])\n",
    "    model.fit(x_train, y_train, validation_data=(x_val, y_val), epochs=10, batch_size=32)\n",
    "    return model"
   ],
   "id": "39328afe7b30d8e4",
   "outputs": [],
   "execution_count": 13
  },
  {
   "metadata": {
    "ExecuteTime": {
     "end_time": "2024-12-19T23:19:01.835485Z",
     "start_time": "2024-12-19T23:18:57.657439Z"
    }
   },
   "cell_type": "code",
   "source": [
    "# Load datasets\n",
    "train = pd.read_csv('train.csv')\n",
    "val = pd.read_csv('val.csv')\n",
    "test = pd.read_csv('test.csv')\n",
    "\n",
    "# Load and preprocess images\n",
    "train_image_data = load_images(['./train_images'])\n",
    "val_image_data = load_images(['./val_images'])"
   ],
   "id": "9933de2f50e1f8c4",
   "outputs": [
    {
     "name": "stderr",
     "output_type": "stream",
     "text": [
      "Loading images from folder ./train_images: 100%|██████████| 9463/9463 [00:02<00:00, 3258.25it/s]\n",
      "Loading images from folder ./val_images: 100%|██████████| 2957/2957 [00:00<00:00, 4708.79it/s]\n"
     ]
    }
   ],
   "execution_count": 14
  },
  {
   "metadata": {
    "ExecuteTime": {
     "end_time": "2024-12-19T23:19:10.044283Z",
     "start_time": "2024-12-19T23:19:01.836615Z"
    }
   },
   "cell_type": "code",
   "source": [
    "# Build and extract image features\n",
    "cnn_model = build_cnn_model()\n",
    "train_image_features = extract_image_features(train_image_data, cnn_model)\n",
    "val_image_features = extract_image_features(val_image_data, cnn_model)\n",
    "np.save('train_image_features.npy', train_image_features)\n",
    "np.save('val_image_features.npy', val_image_features)"
   ],
   "id": "877e9546baaae083",
   "outputs": [
    {
     "name": "stderr",
     "output_type": "stream",
     "text": [
      "/home/radu/miniforge3/envs/ML/lib/python3.11/site-packages/keras/src/layers/convolutional/base_conv.py:107: UserWarning: Do not pass an `input_shape`/`input_dim` argument to a layer. When using Sequential models, prefer using an `Input(shape)` object as the first layer in the model instead.\n",
      "  super().__init__(activity_regularizer=activity_regularizer, **kwargs)\n"
     ]
    },
    {
     "name": "stdout",
     "output_type": "stream",
     "text": [
      "\u001B[1m296/296\u001B[0m \u001B[32m━━━━━━━━━━━━━━━━━━━━\u001B[0m\u001B[37m\u001B[0m \u001B[1m6s\u001B[0m 18ms/step\n",
      "\u001B[1m93/93\u001B[0m \u001B[32m━━━━━━━━━━━━━━━━━━━━\u001B[0m\u001B[37m\u001B[0m \u001B[1m2s\u001B[0m 18ms/step\n"
     ]
    }
   ],
   "execution_count": 15
  },
  {
   "metadata": {
    "ExecuteTime": {
     "end_time": "2024-12-19T23:19:11.939050Z",
     "start_time": "2024-12-19T23:19:10.045739Z"
    }
   },
   "cell_type": "code",
   "source": [
    "# Preprocess captions\n",
    "train['processed_caption'] = preprocess_captions(train['caption'])\n",
    "val['processed_caption'] = preprocess_captions(val['caption'])\n",
    "test['processed_caption'] = preprocess_captions(test['caption'])\n",
    "\n",
    "\n",
    "# Combine training and validation captions for mapping\n",
    "all_captions = list(train['processed_caption']) + list(val['processed_caption']) + list(test['processed_caption'])\n",
    "# Map words to IDs\n",
    "mapped_ids = map_words_to_ids(all_captions)\n",
    "\n",
    "# Encode captions\n",
    "train_caption_ids = encode_captions(train['processed_caption'], mapped_ids)\n",
    "val_caption_ids = encode_captions(val['processed_caption'], mapped_ids)\n",
    "\n",
    "# Pad sequences\n",
    "max_length = max([len(seq) for seq in train_caption_ids])\n",
    "train_padded = pad_sequences(train_caption_ids, maxlen=max_length, padding='post')\n",
    "val_padded = pad_sequences(val_caption_ids, maxlen=max_length, padding='post')\n"
   ],
   "id": "2476e156e7ad13a5",
   "outputs": [],
   "execution_count": 16
  },
  {
   "metadata": {
    "ExecuteTime": {
     "end_time": "2024-12-19T23:19:25.349504Z",
     "start_time": "2024-12-19T23:19:11.940610Z"
    }
   },
   "cell_type": "code",
   "source": [
    "# Build and extract text features\n",
    "vocab_size = len(mapped_ids)\n",
    "lstm_model = build_lstm_model(vocab_size, max_length)\n",
    "train_lstm_features = lstm_model.predict(train_padded)\n",
    "val_lstm_features = lstm_model.predict(val_padded)\n",
    "np.save('train_lstm_features.npy', train_lstm_features)\n",
    "np.save('val_lstm_features.npy', val_lstm_features)"
   ],
   "id": "994f34f4b0f8d83",
   "outputs": [
    {
     "name": "stdout",
     "output_type": "stream",
     "text": [
      "\u001B[1m  3/313\u001B[0m \u001B[37m━━━━━━━━━━━━━━━━━━━━\u001B[0m \u001B[1m9s\u001B[0m 31ms/step "
     ]
    },
    {
     "name": "stderr",
     "output_type": "stream",
     "text": [
      "/home/radu/miniforge3/envs/ML/lib/python3.11/site-packages/keras/src/layers/core/embedding.py:90: UserWarning: Argument `input_length` is deprecated. Just remove it.\n",
      "  warnings.warn(\n"
     ]
    },
    {
     "name": "stdout",
     "output_type": "stream",
     "text": [
      "\u001B[1m313/313\u001B[0m \u001B[32m━━━━━━━━━━━━━━━━━━━━\u001B[0m\u001B[37m\u001B[0m \u001B[1m10s\u001B[0m 32ms/step\n",
      "\u001B[1m94/94\u001B[0m \u001B[32m━━━━━━━━━━━━━━━━━━━━\u001B[0m\u001B[37m\u001B[0m \u001B[1m3s\u001B[0m 33ms/step\n"
     ]
    }
   ],
   "execution_count": 17
  },
  {
   "metadata": {
    "ExecuteTime": {
     "end_time": "2024-12-19T23:19:25.375912Z",
     "start_time": "2024-12-19T23:19:25.351187Z"
    }
   },
   "cell_type": "code",
   "source": [
    "# Align image features to captions\n",
    "train_aligned_image_features = align_image_features(train_image_features, train)\n",
    "val_aligned_image_features = align_image_features(val_image_features, val)"
   ],
   "id": "2b044d036c21d4a1",
   "outputs": [],
   "execution_count": 18
  },
  {
   "metadata": {
    "ExecuteTime": {
     "end_time": "2024-12-19T23:19:25.402101Z",
     "start_time": "2024-12-19T23:19:25.377279Z"
    }
   },
   "cell_type": "code",
   "source": [
    "# Combine features\n",
    "train_combined_features = np.concatenate((train_aligned_image_features, train_lstm_features), axis=1)\n",
    "val_combined_features = np.concatenate((val_aligned_image_features, val_lstm_features), axis=1)\n",
    "\n",
    "# One-hot encode labels\n",
    "train_labels = to_categorical(train['label'].values, num_classes=num_classes)\n",
    "val_labels = to_categorical(val['label'].values, num_classes=num_classes)\n",
    "\n",
    "train_labels_binary = np.argmax(train_labels, axis=1)  # Convert one-hot to binary labels\n",
    "val_labels_binary = np.argmax(val_labels, axis=1)\n"
   ],
   "id": "29a51f8ee550cee2",
   "outputs": [],
   "execution_count": 19
  },
  {
   "metadata": {
    "ExecuteTime": {
     "end_time": "2024-12-19T23:19:55.430Z",
     "start_time": "2024-12-19T23:19:29.210470Z"
    }
   },
   "cell_type": "code",
   "source": [
    "# Train model\n",
    "model = train_combined_model(train_combined_features, train_labels_binary, val_combined_features, val_labels_binary)"
   ],
   "id": "9571e27c608b7fe8",
   "outputs": [
    {
     "name": "stdout",
     "output_type": "stream",
     "text": [
      "Epoch 1/10\n",
      "\u001B[1m  8/313\u001B[0m \u001B[37m━━━━━━━━━━━━━━━━━━━━\u001B[0m \u001B[1m2s\u001B[0m 8ms/step - accuracy: 0.4448 - loss: 0.6948  "
     ]
    },
    {
     "name": "stderr",
     "output_type": "stream",
     "text": [
      "/home/radu/miniforge3/envs/ML/lib/python3.11/site-packages/keras/src/layers/core/dense.py:87: UserWarning: Do not pass an `input_shape`/`input_dim` argument to a layer. When using Sequential models, prefer using an `Input(shape)` object as the first layer in the model instead.\n",
      "  super().__init__(activity_regularizer=activity_regularizer, **kwargs)\n"
     ]
    },
    {
     "name": "stdout",
     "output_type": "stream",
     "text": [
      "\u001B[1m313/313\u001B[0m \u001B[32m━━━━━━━━━━━━━━━━━━━━\u001B[0m\u001B[37m\u001B[0m \u001B[1m3s\u001B[0m 9ms/step - accuracy: 0.4903 - loss: 0.6941 - val_accuracy: 0.5000 - val_loss: 0.6933\n",
      "Epoch 2/10\n",
      "\u001B[1m313/313\u001B[0m \u001B[32m━━━━━━━━━━━━━━━━━━━━\u001B[0m\u001B[37m\u001B[0m \u001B[1m3s\u001B[0m 9ms/step - accuracy: 0.5057 - loss: 0.6936 - val_accuracy: 0.5003 - val_loss: 0.6937\n",
      "Epoch 3/10\n",
      "\u001B[1m313/313\u001B[0m \u001B[32m━━━━━━━━━━━━━━━━━━━━\u001B[0m\u001B[37m\u001B[0m \u001B[1m3s\u001B[0m 9ms/step - accuracy: 0.5018 - loss: 0.6933 - val_accuracy: 0.5000 - val_loss: 0.6952\n",
      "Epoch 4/10\n",
      "\u001B[1m313/313\u001B[0m \u001B[32m━━━━━━━━━━━━━━━━━━━━\u001B[0m\u001B[37m\u001B[0m \u001B[1m3s\u001B[0m 8ms/step - accuracy: 0.5023 - loss: 0.6941 - val_accuracy: 0.5063 - val_loss: 0.6930\n",
      "Epoch 5/10\n",
      "\u001B[1m313/313\u001B[0m \u001B[32m━━━━━━━━━━━━━━━━━━━━\u001B[0m\u001B[37m\u001B[0m \u001B[1m3s\u001B[0m 8ms/step - accuracy: 0.4993 - loss: 0.6932 - val_accuracy: 0.5023 - val_loss: 0.6938\n",
      "Epoch 6/10\n",
      "\u001B[1m313/313\u001B[0m \u001B[32m━━━━━━━━━━━━━━━━━━━━\u001B[0m\u001B[37m\u001B[0m \u001B[1m2s\u001B[0m 8ms/step - accuracy: 0.5243 - loss: 0.6918 - val_accuracy: 0.4990 - val_loss: 0.6932\n",
      "Epoch 7/10\n",
      "\u001B[1m313/313\u001B[0m \u001B[32m━━━━━━━━━━━━━━━━━━━━\u001B[0m\u001B[37m\u001B[0m \u001B[1m3s\u001B[0m 8ms/step - accuracy: 0.5139 - loss: 0.6931 - val_accuracy: 0.5043 - val_loss: 0.6937\n",
      "Epoch 8/10\n",
      "\u001B[1m313/313\u001B[0m \u001B[32m━━━━━━━━━━━━━━━━━━━━\u001B[0m\u001B[37m\u001B[0m \u001B[1m3s\u001B[0m 8ms/step - accuracy: 0.5118 - loss: 0.6927 - val_accuracy: 0.5097 - val_loss: 0.6930\n",
      "Epoch 9/10\n",
      "\u001B[1m313/313\u001B[0m \u001B[32m━━━━━━━━━━━━━━━━━━━━\u001B[0m\u001B[37m\u001B[0m \u001B[1m3s\u001B[0m 8ms/step - accuracy: 0.5172 - loss: 0.6922 - val_accuracy: 0.5013 - val_loss: 0.6933\n",
      "Epoch 10/10\n",
      "\u001B[1m313/313\u001B[0m \u001B[32m━━━━━━━━━━━━━━━━━━━━\u001B[0m\u001B[37m\u001B[0m \u001B[1m3s\u001B[0m 9ms/step - accuracy: 0.5121 - loss: 0.6921 - val_accuracy: 0.4973 - val_loss: 0.6933\n"
     ]
    }
   ],
   "execution_count": 20
  },
  {
   "metadata": {
    "ExecuteTime": {
     "end_time": "2024-12-19T23:20:18.730028Z",
     "start_time": "2024-12-19T23:20:18.597293Z"
    }
   },
   "cell_type": "code",
   "source": [
    "# Visualize the first image feature\n",
    "import matplotlib.pyplot as plt\n",
    "\n",
    "plt.plot(train_image_features[0])\n",
    "plt.title(\"First Image Feature\")\n",
    "plt.show()\n"
   ],
   "id": "b4a7168c59244dda",
   "outputs": [
    {
     "data": {
      "text/plain": [
       "<Figure size 640x480 with 1 Axes>"
      ],
      "image/png": "[encoded data removed]"
     },
     "metadata": {},
     "output_type": "display_data"
    }
   ],
   "execution_count": 21
  },
  {
   "metadata": {
    "ExecuteTime": {
     "end_time": "2024-12-19T23:20:25.589219Z",
     "start_time": "2024-12-19T23:20:25.586550Z"
    }
   },
   "cell_type": "code",
   "source": [
    "# Print the first text feature\n",
    "print(\"First text feature vector:\", train_lstm_features[0])"
   ],
   "id": "4e1cca7a5886ae10",
   "outputs": [
    {
     "name": "stdout",
     "output_type": "stream",
     "text": [
      "First text feature vector: [0.         0.00845172 0.         ... 0.00101284 0.         0.        ]\n"
     ]
    }
   ],
   "execution_count": 22
  },
  {
   "metadata": {
    "ExecuteTime": {
     "end_time": "2024-12-19T22:20:29.138470Z",
     "start_time": "2024-12-19T22:20:25.109079Z"
    }
   },
   "cell_type": "code",
   "source": [
    "# Preprocess test captions\n",
    "test['processed_caption'] = preprocess_captions(test['caption'])\n",
    "\n",
    "# Encode test captions with updated `mapped_ids`\n",
    "test_caption_ids = encode_captions(test['processed_caption'], mapped_ids)\n",
    "\n",
    "# Pad sequences for LSTM\n",
    "test_padded = pad_sequences(test_caption_ids, maxlen=max_length, padding='post')\n",
    "\n",
    "# Extract test LSTM features\n",
    "test_lstm_features = lstm_model.predict(test_padded)\n",
    "\n",
    "# Load and preprocess test images\n",
    "test_image_data = load_images(['./test_images'])\n",
    "test_image_features = extract_image_features(test_image_data, cnn_model)\n",
    "\n",
    "# Align test image features with test.csv\n",
    "test_aligned_image_features = align_image_features(test_image_features, test)\n",
    "\n",
    "# Combine test features\n",
    "test_combined_features = np.concatenate((test_aligned_image_features, test_lstm_features), axis=1)\n"
   ],
   "id": "aa17cb5323febb7f",
   "outputs": [
    {
     "name": "stdout",
     "output_type": "stream",
     "text": [
      "\u001B[1m63/63\u001B[0m \u001B[32m━━━━━━━━━━━━━━━━━━━━\u001B[0m\u001B[37m\u001B[0m \u001B[1m2s\u001B[0m 35ms/step\n"
     ]
    },
    {
     "name": "stderr",
     "output_type": "stream",
     "text": [
      "Loading images from folder ./test_images: 100%|██████████| 1978/1978 [00:00<00:00, 3395.01it/s]\n"
     ]
    },
    {
     "name": "stdout",
     "output_type": "stream",
     "text": [
      "\u001B[1m62/62\u001B[0m \u001B[32m━━━━━━━━━━━━━━━━━━━━\u001B[0m\u001B[37m\u001B[0m \u001B[1m1s\u001B[0m 10ms/step\n"
     ]
    }
   ],
   "execution_count": 20
  },
  {
   "metadata": {
    "ExecuteTime": {
     "end_time": "2024-12-19T22:21:48.544640Z",
     "start_time": "2024-12-19T22:21:48.331352Z"
    }
   },
   "cell_type": "code",
   "source": [
    "# Make predictions\n",
    "test_predictions = model.predict(test_combined_features)\n",
    "\n",
    "# Convert probabilities to binary labels\n",
    "test_labels = (test_predictions > 0.5).astype(int).flatten()"
   ],
   "id": "32b55b71a9c17328",
   "outputs": [
    {
     "name": "stdout",
     "output_type": "stream",
     "text": [
      "\u001B[1m63/63\u001B[0m \u001B[32m━━━━━━━━━━━━━━━━━━━━\u001B[0m\u001B[37m\u001B[0m \u001B[1m0s\u001B[0m 3ms/step\n"
     ]
    }
   ],
   "execution_count": 23
  },
  {
   "metadata": {
    "ExecuteTime": {
     "end_time": "2024-12-19T22:21:50.271262Z",
     "start_time": "2024-12-19T22:21:50.259749Z"
    }
   },
   "cell_type": "code",
   "source": [
    "# Create submission\n",
    "sample_submission = pd.read_csv('sample_submission.csv')\n",
    "sample_submission['label'] = test_labels  # Update 'label' column with predictions\n",
    "\n",
    "# Save submission file\n",
    "submission_path = 'submission.csv'\n",
    "sample_submission.to_csv(submission_path, index=False)\n",
    "\n",
    "print(f\"Submission file created: {submission_path}\")"
   ],
   "id": "db5f20b9666bbc6",
   "outputs": [
    {
     "name": "stdout",
     "output_type": "stream",
     "text": [
      "Submission file created: submission.csv\n"
     ]
    }
   ],
   "execution_count": 24
  }
 ],
 "metadata": {
  "kernelspec": {
   "display_name": "Python 3",
   "language": "python",
   "name": "python3"
  },
  "language_info": {
   "codemirror_mode": {
    "name": "ipython",
    "version": 2
   },
   "file_extension": ".py",
   "mimetype": "text/x-python",
   "name": "python",
   "nbconvert_exporter": "python",
   "pygments_lexer": "ipython2",
   "version": "2.7.6"
  }
 },
 "nbformat": 4,
 "nbformat_minor": 5
}
